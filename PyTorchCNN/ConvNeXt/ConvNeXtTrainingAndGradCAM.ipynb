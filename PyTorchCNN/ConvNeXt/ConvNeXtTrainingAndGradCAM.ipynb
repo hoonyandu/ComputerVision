{
  "cells": [
    {
      "cell_type": "markdown",
      "metadata": {
        "id": "08vtGnsshrIc"
      },
      "source": [
        "# ConvNeXt in PyTorch"
      ]
    },
    {
      "cell_type": "markdown",
      "metadata": {
        "id": "Vjdjo_SPhrIg"
      },
      "source": [
        "https://pytorch.org/vision/master/_modules/torchvision/models/convnext.html"
      ]
    },
    {
      "cell_type": "markdown",
      "metadata": {
        "id": "gXhC61NBvprr"
      },
      "source": [
        "https://github.com/jacobgil/pytorch-grad-cam"
      ]
    },
    {
      "cell_type": "markdown",
      "metadata": {
        "id": "PLOx8iIvhrIl"
      },
      "source": [
        "## Import your Google drive if necessary"
      ]
    },
    {
      "cell_type": "code",
      "execution_count": 1,
      "metadata": {
        "colab": {
          "base_uri": "https://localhost:8080/"
        },
        "id": "xZ8dS42VhrIm",
        "outputId": "05169a04-908d-49db-84ba-f4fe82c422e0"
      },
      "outputs": [
        {
          "name": "stdout",
          "output_type": "stream",
          "text": [
            "Mounted at /content/drive\n"
          ]
        }
      ],
      "source": [
        "from google.colab import drive\n",
        "drive.mount('/content/drive')"
      ]
    },
    {
      "cell_type": "markdown",
      "metadata": {
        "id": "aZyFgebehrIi"
      },
      "source": [
        "## Import Libraries"
      ]
    },
    {
      "cell_type": "code",
      "execution_count": 2,
      "metadata": {
        "id": "S9ETP4UJKL-R"
      },
      "outputs": [],
      "source": [
        "from torchvision.ops.stochastic_depth import StochasticDepth"
      ]
    },
    {
      "cell_type": "code",
      "execution_count": 3,
      "metadata": {
        "id": "zYpjeRs2hrIj"
      },
      "outputs": [],
      "source": [
        "import torch\n",
        "from torch.nn import functional as F\n",
        "import torchvision\n",
        "from torchvision import transforms\n",
        "\n",
        "from typing import Any, Callable, Dict, List, Optional, Sequence\n",
        "from functools import partial\n",
        "from torch.utils.data import DataLoader\n",
        "import os\n",
        "import random\n",
        "import numpy as np\n",
        "\n",
        "import gc\n",
        "import matplotlib.pyplot as plt\n",
        "from sklearn.metrics import confusion_matrix, classification_report\n",
        "import cv2\n",
        "\n",
        "from datetime import datetime"
      ]
    },
    {
      "cell_type": "code",
      "execution_count": 4,
      "metadata": {
        "id": "4j4z2GyAfDun"
      },
      "outputs": [],
      "source": [
        "saveModelName = 'model_ConvNeXt_220228.pth'\n",
        "learningRate = 2e-05\n",
        "nEpochs = 10"
      ]
    },
    {
      "cell_type": "code",
      "execution_count": 5,
      "metadata": {
        "id": "zx3HJ_DDhrIr"
      },
      "outputs": [],
      "source": [
        "def SetSeed(_seed):\n",
        "    random.seed(_seed)\n",
        "    np.random.seed(_seed)\n",
        "    torch.manual_seed(_seed)\n",
        "    torch.cuda.manual_seed_all(_seed)\n",
        "\n",
        "device = torch.device(\"cuda\" if torch.cuda.is_available() else \"cpu\")\n",
        "SetSeed(42)"
      ]
    },
    {
      "cell_type": "markdown",
      "metadata": {
        "id": "fyC8vs8KhrIn"
      },
      "source": [
        "## Define Dataloaders"
      ]
    },
    {
      "cell_type": "code",
      "execution_count": 6,
      "metadata": {
        "id": "rEWWbYnDhrIo"
      },
      "outputs": [],
      "source": [
        "imageDim = 224\n",
        "dirPath = '/content/drive/MyDrive/normalized-set'\n",
        "batchSize = 32"
      ]
    },
    {
      "cell_type": "code",
      "execution_count": 7,
      "metadata": {
        "id": "n1DL3aBnhrIp"
      },
      "outputs": [],
      "source": [
        "def LoadDataset(_dataset):\n",
        "    dsPath = os.path.join(dirPath, _dataset)\n",
        "    dataGenerator = transforms.Compose([\n",
        "        transforms.Resize((imageDim, imageDim)),\n",
        "        transforms.ToTensor(),\n",
        "        transforms.Normalize((0.5, 0.5, 0.5), (0.5, 0.5, 0.5))\n",
        "    ])\n",
        "\n",
        "    dataFolder = torchvision.datasets.ImageFolder(\n",
        "        root = dsPath,\n",
        "        transform = dataGenerator,\n",
        "    )\n",
        "\n",
        "    datasetLoader = DataLoader(\n",
        "        dataFolder,\n",
        "        batch_size=batchSize,\n",
        "        shuffle=True,\n",
        "    )\n",
        "\n",
        "    datasetLoader.requires_grad = True\n",
        "\n",
        "    print(_dataset + \" Class [\", datasetLoader.dataset.class_to_idx, \"]\")\n",
        "    print(_dataset + \" Numbers [\", len(datasetLoader.dataset.imgs), \"]\")\n",
        "    print(_dataset + \" Batch Size [\", datasetLoader.batch_size, \"]\")\n",
        "\n",
        "    return datasetLoader"
      ]
    },
    {
      "cell_type": "code",
      "execution_count": 8,
      "metadata": {
        "colab": {
          "base_uri": "https://localhost:8080/"
        },
        "id": "jLm-2RvghrIq",
        "outputId": "75bd97fd-0c09-4645-80e2-425c25faf52d"
      },
      "outputs": [
        {
          "name": "stdout",
          "output_type": "stream",
          "text": [
            "training Class [ {'benign': 0, 'malware': 1} ]\n",
            "training Numbers [ 24130 ]\n",
            "training Batch Size [ 32 ]\n",
            "validation Class [ {'benign': 0, 'malware': 1} ]\n",
            "validation Numbers [ 6890 ]\n",
            "validation Batch Size [ 32 ]\n",
            "test Class [ {'benign': 0, 'malware': 1} ]\n",
            "test Numbers [ 3442 ]\n",
            "test Batch Size [ 32 ]\n"
          ]
        }
      ],
      "source": [
        "trainDataset = LoadDataset('training')\n",
        "validationDataset = LoadDataset('validation')\n",
        "testDataset = LoadDataset('test')"
      ]
    },
    {
      "cell_type": "markdown",
      "metadata": {
        "id": "IKIqk32_vpry"
      },
      "source": [
        "## Define ConvNeXt Model"
      ]
    },
    {
      "cell_type": "code",
      "execution_count": 9,
      "metadata": {
        "id": "rEms3QmVBl9x"
      },
      "outputs": [],
      "source": [
        "class LayerNorm2d(torch.nn.LayerNorm):\n",
        "    def forward(self, _x):\n",
        "        \"\"\"\n",
        "        Args type:\n",
        "            _x: torch.Tensor\n",
        "\n",
        "        Return type\n",
        "            x: torch.Tensor\n",
        "\n",
        "        \"\"\"\n",
        "\n",
        "        x = _x.permute(0, 2, 3, 1)\n",
        "        x = F.layer_norm(x, self.normalized_shape, self.weight, self.bias, self.eps)\n",
        "        x = x.permute(0, 3, 1, 2)\n",
        "        return x"
      ]
    },
    {
      "cell_type": "code",
      "execution_count": 10,
      "metadata": {
        "id": "cAhqKLQaBrGw"
      },
      "outputs": [],
      "source": [
        "class Permute(torch.nn.Module):\n",
        "    def __init__(self, _dims):\n",
        "        \"\"\"\n",
        "        Args type:\n",
        "            _dims: List[int]\n",
        "        \n",
        "        \"\"\"\n",
        "\n",
        "        super().__init__()\n",
        "        self.m_Dims = _dims\n",
        "\n",
        "    def forward(self, _x):\n",
        "        return torch.permute(_x, self.m_Dims)"
      ]
    },
    {
      "cell_type": "code",
      "execution_count": 11,
      "metadata": {
        "id": "2-wCKHXeBr3w"
      },
      "outputs": [],
      "source": [
        "class CNBlock(torch.nn.Module):\n",
        "    def __init__(self, _dim, _layerScale, _stochasticDepthProb, _normLayer=None):\n",
        "        \"\"\"\n",
        "        Args type:\n",
        "            _dim\n",
        "            _layerScale: float\n",
        "            _stochasticDepthProb: float\n",
        "            _normLayer: Optional[Callable[..., torch.nn.Module]]\n",
        "\n",
        "        Return type:\n",
        "            None\n",
        "        \n",
        "        \"\"\"\n",
        "        super().__init__()\n",
        "        if _normLayer is None:\n",
        "            _normLayer = partial(torch.nn.LayerNorm, eps=1e-6)\n",
        "\n",
        "        self.m_Block = torch.nn.Sequential(\n",
        "            torch.nn.Conv2d(_dim, _dim, kernel_size=7, padding=3, groups=_dim, bias=True),\n",
        "            Permute([0, 2, 3, 1]),\n",
        "            _normLayer(_dim),\n",
        "            torch.nn.Linear(in_features=_dim, out_features=4 * _dim, bias=True),\n",
        "            torch.nn.GELU(),\n",
        "            torch.nn.Linear(in_features=4 * _dim, out_features=_dim, bias=True),\n",
        "            Permute([0, 3, 1, 2]),\n",
        "        )\n",
        "\n",
        "        self.m_LayerScale = torch.nn.Parameter(torch.ones(_dim, 1, 1) * _layerScale)\n",
        "        self.m_StochasticDepth = StochasticDepth(_stochasticDepthProb, \"row\")\n",
        "\n",
        "    def forward(self, _input):\n",
        "        \"\"\"\n",
        "        Args type\n",
        "            _input: torch.Tensor\n",
        "\n",
        "        Return type\n",
        "            result: torch.Tensor\n",
        "        \n",
        "        \"\"\"\n",
        "        \n",
        "        result = self.m_LayerScale * self.m_Block(_input)\n",
        "        result = self.m_StochasticDepth(result)\n",
        "        result = result + _input\n",
        "\n",
        "        return result"
      ]
    },
    {
      "cell_type": "code",
      "execution_count": 12,
      "metadata": {
        "id": "ZuO5bHzoBuoY"
      },
      "outputs": [],
      "source": [
        "class CNBlockConfig:\n",
        "    # Stores information listed at Section 3 of the ConvNeXt paper\n",
        "    def __init__(self, _inputChannels, _outChannels, _numLayers):\n",
        "        \"\"\"\n",
        "        Args type\n",
        "            _inputChannels: int\n",
        "            _outChannels: Optional[int]\n",
        "            _numLayers: int\n",
        "\n",
        "        Return type\n",
        "            None\n",
        "\n",
        "        \"\"\"\n",
        "\n",
        "        self.m_InputChannels = _inputChannels\n",
        "        self.m_OutChannels = _outChannels\n",
        "        self.m_NumLayers = _numLayers\n",
        "\n",
        "    def __repre__(self):\n",
        "        \"\"\"\n",
        "        Return type\n",
        "            s: str\n",
        "\n",
        "        \"\"\"\n",
        "\n",
        "        s = self.__class__.__name__ + \"(\"\n",
        "        s += \"_inputChannels={_inputChannels}\"\n",
        "        s += \", _outChannels={_outChannels}\"\n",
        "        s += \", _numLayers={_numLayers}\"\n",
        "        s += \")\"\n",
        "\n",
        "        return s.format(**self.__dict__)"
      ]
    },
    {
      "cell_type": "code",
      "execution_count": 13,
      "metadata": {
        "id": "FUtQTgM5ByG4"
      },
      "outputs": [],
      "source": [
        "class ConvNeXt(torch.nn.Module):\n",
        "    def __init__(self, _blockSetting, stochasticDepthProb=0.0, _layerScale=1e-6, _numClasses=1000, _block=None, _normLayer=None, **kwargs):\n",
        "        \"\"\"\n",
        "        Args type\n",
        "            _blockSetting: List[CNBlockConfig]\n",
        "            _stochasticDepthProb: float\n",
        "            _layerScale: float\n",
        "            _numClasses: int\n",
        "            _block: Optional[Callable[..., torch.nn.Module]]\n",
        "            _normLayer: Optional[Callable[..., torch.nn.Module]]\n",
        "            **kwargs: Any\n",
        "\n",
        "        Return type\n",
        "            None\n",
        "        \n",
        "        \"\"\"\n",
        "\n",
        "        super().__init__()\n",
        "        # torch._C._log_api_usage_once(self)\n",
        "\n",
        "        if not _blockSetting:\n",
        "            raise ValueError(\"The _blockSetting should not be empty\")\n",
        "\n",
        "        elif not (isinstance(_blockSetting, Sequence) and all([isinstance(s, CNBlockConfig) for s in _blockSetting])):\n",
        "            raise TypeError(\"The _blockSetting should be List[CNBlockConfig]\")\n",
        "\n",
        "        if _block is None:\n",
        "            _block = CNBlock\n",
        "        \n",
        "        if _normLayer is None:\n",
        "            _normLayer = partial(LayerNorm2d, eps=1e-6)\n",
        "\n",
        "        layers = list() # List[torch.nn.Module]\n",
        "\n",
        "        # Stem\n",
        "        firstconvOutputChannels = _blockSetting[0].m_InputChannels\n",
        "        layers.append(\n",
        "            torchvision.ops.misc.ConvNormActivation(\n",
        "                3, \n",
        "                firstconvOutputChannels, \n",
        "                kernel_size=4,\n",
        "                stride=4,\n",
        "                padding=0,\n",
        "                norm_layer=_normLayer,\n",
        "                activation_layer=None,\n",
        "                # bias=True,\n",
        "            )\n",
        "        )\n",
        "\n",
        "        totalStageBlocks = sum(cnf.m_NumLayers for cnf in _blockSetting)\n",
        "        stageBlockId = 0\n",
        "        for cnf in _blockSetting:\n",
        "            # Bottlenecks\n",
        "            stage = list() # List[torch.nn.Module]\n",
        "            for _ in range(cnf.m_NumLayers):\n",
        "                # adjust stochastic depth probability based on the depth of the stage block\n",
        "                sdProb = stochasticDepthProb * stageBlockId / (totalStageBlocks - 1.0)\n",
        "                stage.append(_block(cnf.m_InputChannels, _layerScale, sdProb))\n",
        "                stageBlockId = stageBlockId + 1\n",
        "            \n",
        "            layers.append(torch.nn.Sequential(*stage))\n",
        "            if cnf.m_OutChannels is not None:\n",
        "                # Downsampling\n",
        "                layers.append(\n",
        "                    torch.nn.Sequential(\n",
        "                        _normLayer(cnf.m_InputChannels),\n",
        "                        torch.nn.Conv2d(cnf.m_InputChannels, cnf.m_OutChannels, kernel_size=2, stride=2),\n",
        "                    )\n",
        "                )\n",
        "        self.m_Features = torch.nn.Sequential(*layers)\n",
        "        self.m_AvgPool = torch.nn.AdaptiveAvgPool2d(1)\n",
        "\n",
        "        lastblock = _blockSetting[-1]\n",
        "        lastconvOutputChannels = (\n",
        "            lastblock.m_OutChannels if lastblock.m_OutChannels is not None else lastblock.m_InputChannels\n",
        "        )\n",
        "        self.m_Classifier = torch.nn.Sequential(\n",
        "            _normLayer(lastconvOutputChannels),\n",
        "            torch.nn.Flatten(1),\n",
        "            torch.nn.Linear(lastconvOutputChannels, _numClasses)\n",
        "        )\n",
        "\n",
        "        for m in self.modules():\n",
        "            if isinstance(m, (torch.nn.Conv2d, torch.nn.Linear)):\n",
        "                torch.nn.init.trunc_normal_(m.weight, std=0.02)\n",
        "                if m.bias is not None:\n",
        "                    torch.nn.init.zeros_(m.bias)\n",
        "\n",
        "    def _forward_impl(self, _x):\n",
        "        \"\"\"\n",
        "        Args type:\n",
        "            _x: torch.Tensor\n",
        "\n",
        "        Return type\n",
        "            x: torch.Tensor\n",
        "        \n",
        "        \"\"\"\n",
        "\n",
        "        x = self.m_Features(_x)\n",
        "        x = self.m_AvgPool(x)\n",
        "        x = self.m_Classifier(x)\n",
        "        return x\n",
        "\n",
        "    def forward(self, _x):\n",
        "        \"\"\"\n",
        "        Args type\n",
        "            _x: torch.Tensor\n",
        "\n",
        "        Return type\n",
        "            self._forward_impl(_x): torch.Tensor        \n",
        "        \n",
        "        \"\"\"\n",
        "        return self._forward_impl(_x)\n",
        "\n",
        "\n",
        "    def TrainOneEpoch(self, _model, _trainLoader, _criterion, _optimizer, _device):\n",
        "        # keep track of training loss\n",
        "        epochLoss = 0.0\n",
        "        epochAccuracy = 0.0\n",
        "\n",
        "        ####################\n",
        "        # train the model  #\n",
        "        ####################\n",
        "        _model.train()\n",
        "        for i, (data, target) in enumerate(_trainLoader):\n",
        "          # move tensors to GPU if CUDA is avaliable:\n",
        "          data, target = data.cuda(), target.cuda()\n",
        "          \n",
        "          # clear the gradients of all optimized variables\n",
        "          _optimizer.zero_grad()\n",
        "\n",
        "          # forward pass: compute predicted outputs by passing inputs to the model\n",
        "          output = self.forward(data)\n",
        "\n",
        "          # calculate the batch loss\n",
        "          loss = _criterion(output, target)\n",
        "\n",
        "          # backward pass: compute gradient of the loss with respect to model parameters\n",
        "          loss.backward()\n",
        "\n",
        "          # Calculate Accuracy\n",
        "          accuracy = (output.argmax(dim=1) == target).float().mean()\n",
        "\n",
        "          # update training loss and accuracy\n",
        "          epochLoss = epochLoss + loss\n",
        "          epochAccuracy = epochAccuracy + accuracy\n",
        "\n",
        "          # perform a single optimization step (parameter update)\n",
        "          _optimizer.step()\n",
        "        \n",
        "        return epochLoss / len(_trainLoader), epochAccuracy / len(_trainLoader)\n",
        "\n",
        "    def ValidateOneEpoch(self, _model, _validLoader, _criterion, _device):\n",
        "        # keep track of validation loss\n",
        "        validLoss = 0.0\n",
        "        validAccuracy = 0.0\n",
        "\n",
        "        ######################\n",
        "        # validate the model #\n",
        "        ######################\n",
        "        _model.eval()\n",
        "\n",
        "        for data, target in _validLoader:\n",
        "          # move tensors to PUT if CUDA is avaliable\n",
        "          data, target = data.cuda(), target.cuda()\n",
        "\n",
        "          with torch.no_grad():\n",
        "            # forward pass: compute predicted outputs by passing inputs to the model\n",
        "            output = _model(data)\n",
        "\n",
        "            # calculate the batch loss\n",
        "            loss = _criterion(output, target)\n",
        "\n",
        "            # Calculate Accuracy\n",
        "            accuracy = (output.argmax(dim=1) == target).float().mean()\n",
        "\n",
        "            # update average validation loss and accuracy\n",
        "            validLoss = validLoss + loss\n",
        "            validAccuracy = validAccuracy + accuracy\n",
        "\n",
        "        return validLoss / len(_validLoader), validAccuracy / len(_validLoader)"
      ]
    },
    {
      "cell_type": "code",
      "execution_count": 14,
      "metadata": {
        "id": "vCD-n-w2B6yA"
      },
      "outputs": [],
      "source": [
        "_MODELS_URLS: Dict[str, Optional[str]] = {\n",
        "    \"convnext_tiny\": \"https://download.pytorch.org/models/convnext_tiny-983f1562.pth\",\n",
        "    \"convnext_small\": \"https://download.pytorch.org/models/convnext_small-0c510722.pth\",\n",
        "    \"convnext_base\": \"https://download.pytorch.org/models/convnext_base-6075fbad.pth\",\n",
        "    \"convnext_large\": \"https://download.pytorch.org/models/convnext_large-ea097f82.pth\",\n",
        "}\n",
        "\n",
        "def _convnext(_arch, _blockSetting, _stochasticDepthProb, _pretrained, _progress, **kwargs):\n",
        "    \"\"\"\n",
        "    Args type\n",
        "        _arch: str\n",
        "        _blockSetting: List[CNBlockConfig]\n",
        "        _stochasticDepthProb: float\n",
        "        _pretrained: bool\n",
        "        _pregress: bool\n",
        "        **kwargs: Any\n",
        "\n",
        "    Return type\n",
        "        model: ConvNeXt\n",
        "\n",
        "    \"\"\"\n",
        "\n",
        "    model = ConvNeXt(_blockSetting, _stochasticDepthProb=_stochasticDepthProb, _numClasses=2, **kwargs)\n",
        "    if _pretrained:\n",
        "        if _arch not in _MODELS_URLS:\n",
        "            raise ValueError(f\"No checkpoint is available for model type {_arch}\")\n",
        "\n",
        "        stateDict = torch.load_state_dict_from_url(_MODELS_URLS[_arch], progress=_progress)\n",
        "        model.load_state_dict(stateDict)\n",
        "\n",
        "    return model"
      ]
    },
    {
      "cell_type": "markdown",
      "metadata": {
        "id": "66sf5ZAshrIu"
      },
      "source": [
        "## Define ConvNeXt training Function"
      ]
    },
    {
      "cell_type": "code",
      "execution_count": null,
      "metadata": {
        "id": "zaiBZbUKaiCm"
      },
      "outputs": [],
      "source": [
        "def TrainModel(_model, _epochs, _device, _criterion, _optimizer, _trainLoader, _validLoader=None):\n",
        "  validLossMin = np.Inf # track change in validation loss\n",
        "\n",
        "  # keeping track of losses as it happen\n",
        "  trainLosses = list()\n",
        "  validLosses = list()\n",
        "  trainAccs = list()\n",
        "  validAccs = list()\n",
        "  \n",
        "  for epoch in range(1, _epochs + 1):\n",
        "    gc.collect()\n",
        "    trainLoss, trainAcc = _model.TrainOneEpoch(_model, _trainLoader, _criterion, _optimizer, _device)\n",
        "    print(f\"[TRAIN] EPOCH {epoch} - LOSS: {trainLoss}, ACCURACY: {trainAcc}\")\n",
        "    trainLosses.append(trainLoss.item())\n",
        "    trainAccs.append(trainAcc.item())\n",
        "    gc.collect()\n",
        "\n",
        "    if _validLoader is not None:\n",
        "      gc.collect()\n",
        "      validLoss, validAcc = _model.ValidateOneEpoch(_model, _validLoader, _criterion, _device)\n",
        "      print(f\"[VALID] EPOCH {epoch} - LOSS: {validLoss}, ACCURACY: {validAcc}\")\n",
        "      validLosses.append(validLoss.item())\n",
        "      validAccs.append(validAcc.item())\n",
        "      gc.collect()\n",
        "\n",
        "      if validLoss <= validLossMin and epoch != 1:\n",
        "        print(\"Validation loss decreased ({:.4f} --> {:.4f}). Saving model ...\".format(validLossMin, validLoss))\n",
        "        torch.save(_model.state_dict(), 'best_model.pth')\n",
        "      validLossMin = validLoss\n",
        "  \n",
        "  return trainLosses, validLosses, trainAccs, validAccs"
      ]
    },
    {
      "cell_type": "markdown",
      "metadata": {
        "id": "619BiIFPvpr0"
      },
      "source": [
        "## Train the ConvNeXt!"
      ]
    },
    {
      "cell_type": "code",
      "execution_count": 15,
      "metadata": {
        "id": "qSTkYbVAEI_g"
      },
      "outputs": [],
      "source": [
        "def ConvNeXtBase(*, _pretrained=False, _progress=True, **kwargs):\n",
        "    \"\"\"\n",
        "    ConvNeXt Small model architecture from the\n",
        "    `\"A ConvNet for the 2020s\" <https://arxiv.org/abs/2201.03545>`_ paper.\n",
        "\n",
        "    Args type\n",
        "        _pretrained: bool\n",
        "            If True, returns a model pre-trained on ImageNet\n",
        "        _progress: bool\n",
        "            If True, displays a progress bar of the download to stderr\n",
        "\n",
        "    Return type\n",
        "        ConvNeXt\n",
        "    \n",
        "    \"\"\"\n",
        "\n",
        "    blockSetting = [\n",
        "        CNBlockConfig(128, 256, 3),\n",
        "        CNBlockConfig(256, 512, 3),\n",
        "        CNBlockConfig(512, 1024, 27),\n",
        "        CNBlockConfig(1024, None, 3),\n",
        "    ]\n",
        "    stochasticDepthProb = kwargs.pop(\"stochasticDepthProb\", 0.5)\n",
        "    return _convnext(\"convnext_base\", blockSetting, stochasticDepthProb, _pretrained, _progress, **kwargs)"
      ]
    },
    {
      "cell_type": "code",
      "execution_count": 16,
      "metadata": {
        "id": "YMKGF1cadja-"
      },
      "outputs": [],
      "source": [
        "model = ConvNeXtBase()"
      ]
    },
    {
      "cell_type": "code",
      "execution_count": null,
      "metadata": {
        "colab": {
          "base_uri": "https://localhost:8080/"
        },
        "id": "_Sb7U2OrfRyu",
        "outputId": "22c1a3c3-190a-46b7-cc0c-4f8f6d78ae2e"
      },
      "outputs": [
        {
          "name": "stdout",
          "output_type": "stream",
          "text": [
            "Start Time: 2022-02-28 02:43:38.472770\n",
            "[TRAIN] EPOCH 1 - LOSS: 0.4995878338813782, ACCURACY: 0.7479718923568726\n",
            "[VALID] EPOCH 1 - LOSS: 0.32534098625183105, ACCURACY: 0.8493055701255798\n",
            "[TRAIN] EPOCH 2 - LOSS: 0.290679007768631, ACCURACY: 0.8704884052276611\n",
            "[VALID] EPOCH 2 - LOSS: 0.3215735852718353, ACCURACY: 0.8590567111968994\n",
            "Validation loss decreased (0.3253 --> 0.3216). Saving model ...\n",
            "[TRAIN] EPOCH 3 - LOSS: 0.24742908775806427, ACCURACY: 0.8882864117622375\n",
            "[VALID] EPOCH 3 - LOSS: 0.25345611572265625, ACCURACY: 0.8889757394790649\n",
            "Validation loss decreased (0.3216 --> 0.2535). Saving model ...\n",
            "[TRAIN] EPOCH 4 - LOSS: 0.21392230689525604, ACCURACY: 0.9036837816238403\n",
            "[VALID] EPOCH 4 - LOSS: 0.253288209438324, ACCURACY: 0.893663227558136\n",
            "Validation loss decreased (0.2535 --> 0.2533). Saving model ...\n",
            "[TRAIN] EPOCH 5 - LOSS: 0.18650919198989868, ACCURACY: 0.9142798185348511\n",
            "[VALID] EPOCH 5 - LOSS: 0.22735191881656647, ACCURACY: 0.9047743082046509\n",
            "Validation loss decreased (0.2533 --> 0.2274). Saving model ...\n",
            "[TRAIN] EPOCH 6 - LOSS: 0.1506882607936859, ACCURACY: 0.9324917197227478\n",
            "[VALID] EPOCH 6 - LOSS: 0.2176990807056427, ACCURACY: 0.9039351940155029\n",
            "Validation loss decreased (0.2274 --> 0.2177). Saving model ...\n",
            "[TRAIN] EPOCH 7 - LOSS: 0.11944179236888885, ACCURACY: 0.9478890895843506\n",
            "[VALID] EPOCH 7 - LOSS: 0.21218982338905334, ACCURACY: 0.9117187261581421\n",
            "Validation loss decreased (0.2177 --> 0.2122). Saving model ...\n",
            "[TRAIN] EPOCH 8 - LOSS: 0.09345239400863647, ACCURACY: 0.9606788158416748\n",
            "[VALID] EPOCH 8 - LOSS: 0.2121526598930359, ACCURACY: 0.9185474514961243\n",
            "Validation loss decreased (0.2122 --> 0.2122). Saving model ...\n",
            "[TRAIN] EPOCH 9 - LOSS: 0.06944984197616577, ACCURACY: 0.9698261618614197\n",
            "[VALID] EPOCH 9 - LOSS: 0.26084986329078674, ACCURACY: 0.9230324029922485\n",
            "[TRAIN] EPOCH 10 - LOSS: 0.05530393123626709, ACCURACY: 0.9761589765548706\n",
            "[VALID] EPOCH 10 - LOSS: 0.3348291218280792, ACCURACY: 0.9193865656852722\n",
            "Execution time: 7:10:59.597597\n",
            "Saving Model\n"
          ]
        }
      ],
      "source": [
        "criterion = torch.nn.CrossEntropyLoss()\n",
        "model.to(device)\n",
        "optimizer = torch.optim.Adam(model.parameters(), lr=learningRate)\n",
        "startTime = datetime.now()\n",
        "print(f\"Start Time: {startTime}\")\n",
        "\n",
        "trainLosses, validLosses, trainAccs, validAccs = TrainModel(model, nEpochs, device, criterion, optimizer, trainDataset, validationDataset)\n",
        "print(f\"Execution time: {datetime.now() - startTime}\")\n",
        "\n",
        "print(\"Saving Model\")\n",
        "torch.save(model.state_dict(), saveModelName)"
      ]
    },
    {
      "cell_type": "code",
      "execution_count": null,
      "metadata": {
        "id": "9SXCge5DM_31"
      },
      "outputs": [],
      "source": [
        "!cp /content/best_model.pth /content/drive/MyDrive/models/torchConvNeXt\n",
        "!cp /content/model_ConvNeXt_220228.pth /content/drive/MyDrive/models/torchConvNeXt"
      ]
    },
    {
      "cell_type": "code",
      "execution_count": null,
      "metadata": {
        "id": "M6SwwEAJhrIy"
      },
      "outputs": [],
      "source": [
        "def PlotGraph(_trainLosses, _trainAccs, _valLosses, _valAccs):\n",
        "    fig, ax1 = plt.subplots()\n",
        "\n",
        "    ax1.plot(_trainAccs, 'b-', label=\"train acc\")\n",
        "    ax1.plot(_valAccs, 'r-', label=\"valid acc\")\n",
        "    ax1.set_xlabel('epoch')\n",
        "    # Make the y-axis label, ticks and tick labels match the line color\n",
        "    ax1.set_ylabel('acc', color='k')\n",
        "    ax1.tick_params('y', colors='k')\n",
        "\n",
        "    ax2 = ax1.twinx()\n",
        "    ax2.plot(_trainLosses, 'g-', label=\"train loss\")\n",
        "    ax2.plot(_valLosses, 'k-', label=\"valid loss\")\n",
        "    ax2.set_ylabel('loss', color='k')\n",
        "    ax2.tick_params('y', colors='k')\n",
        "\n",
        "    plt.legend()\n",
        "\n",
        "    fig.tight_layout()\n",
        "    plt.show()\n",
        "    plt.savefig('./' + 'train-val_loss_acc.png', format='png', dpi=300)"
      ]
    },
    {
      "cell_type": "code",
      "execution_count": null,
      "metadata": {
        "colab": {
          "base_uri": "https://localhost:8080/"
        },
        "id": "NCmqu9a8hrIy",
        "outputId": "dc4e0e02-13f5-4c97-98df-4da826243965"
      },
      "outputs": [
        {
          "data": {
            "image/png": "[encoded data removed]",
            "text/plain": [
              "<Figure size 432x288 with 2 Axes>"
            ]
          },
          "metadata": {
            "needs_background": "light"
          },
          "output_type": "display_data"
        },
        {
          "data": {
            "text/plain": [
              "<Figure size 432x288 with 0 Axes>"
            ]
          },
          "metadata": {},
          "output_type": "display_data"
        }
      ],
      "source": [
        "PlotGraph(trainLosses, trainAccs, validLosses, validAccs)"
      ]
    },
    {
      "cell_type": "code",
      "execution_count": 17,
      "metadata": {
        "id": "bAbQ3o4QjCKv"
      },
      "outputs": [],
      "source": [
        "# model.load_state_dict(torch.load('/content/'+saveModelName))\n",
        "model.load_state_dict(torch.load('/content/drive/MyDrive/models/torchConvNeXt/model_ConvNeXt_220228.pth'))\n",
        "model.to(device)\n",
        "\n",
        "criterion = torch.nn.CrossEntropyLoss()\n",
        "optimizer = torch.optim.Adam(model.parameters(), lr=learningRate)"
      ]
    },
    {
      "cell_type": "code",
      "execution_count": 18,
      "metadata": {
        "id": "1XhvBZ4kSduj"
      },
      "outputs": [],
      "source": [
        "def TestOneEpoch(_model, _testLoader, _criterion):\n",
        "      # keep track of validation loss\n",
        "      testLoss = 0.0\n",
        "      testAccuracy = 0.0\n",
        "\n",
        "      labelList = list()\n",
        "      predList = list()\n",
        "\n",
        "      ##################\n",
        "      # test the model #\n",
        "      ##################\n",
        "      \n",
        "      _model.eval()\n",
        "\n",
        "      for data, target in _testLoader:\n",
        "        # move tensors to PUT if CUDA is avaliable\n",
        "        data, target = data.cuda(), target.cuda()\n",
        "\n",
        "        with torch.no_grad():\n",
        "          # forward pass: compute predicted outputs by passing inputs to the model\n",
        "          output = _model(data)\n",
        "\n",
        "          # calculate the batch loss\n",
        "          loss = _criterion(output, target)\n",
        "\n",
        "          # Calculate Accuracy\n",
        "          accuracy = (output.argmax(dim=1) == target).float().mean()\n",
        "\n",
        "          # update average validation loss and accuracy\n",
        "          testLoss = testLoss + loss\n",
        "          testAccuracy = testAccuracy + accuracy\n",
        "\n",
        "          _, pred = torch.max(output, 1)\n",
        "          labelList.extend(target.tolist())\n",
        "          predList.extend(pred.tolist())\n",
        "\n",
        "\n",
        "          # print(f\"[TEST] LOSS: {testLoss}, ACCURACY: {testAccuracy}\")\n",
        "\n",
        "      return testLoss / len(_testLoader), testAccuracy / len(_testLoader), labelList, predList"
      ]
    },
    {
      "cell_type": "code",
      "execution_count": 19,
      "metadata": {
        "id": "MFRvIJcohrIz"
      },
      "outputs": [],
      "source": [
        "def ConfusionMatrix(_nClasses, _labelList, _predList):\n",
        "    cm = confusion_matrix(_labelList, _predList, labels=[i for i in range(_nClasses)])\n",
        "    print(cm)\n",
        "\n",
        "    report = classification_report(_labelList, _predList, labels=[i for i in range(_nClasses)])\n",
        "    print(report)\n"
      ]
    },
    {
      "cell_type": "code",
      "execution_count": 20,
      "metadata": {
        "colab": {
          "base_uri": "https://localhost:8080/"
        },
        "id": "Pw-ost8fhrIz",
        "outputId": "4b8361bc-694b-430d-9dc2-91b4d37ee79e"
      },
      "outputs": [
        {
          "name": "stdout",
          "output_type": "stream",
          "text": [
            "Start Time: 2022-03-01 06:57:04.638712\n",
            "Execution time: 0:10:37.741539\n",
            "[TEST] LOSS: 0.34179404377937317, ACCURACY: 0.9187564253807068\n",
            "[[1518  143]\n",
            " [ 137 1644]]\n",
            "              precision    recall  f1-score   support\n",
            "\n",
            "           0       0.92      0.91      0.92      1661\n",
            "           1       0.92      0.92      0.92      1781\n",
            "\n",
            "    accuracy                           0.92      3442\n",
            "   macro avg       0.92      0.92      0.92      3442\n",
            "weighted avg       0.92      0.92      0.92      3442\n",
            "\n"
          ]
        }
      ],
      "source": [
        "startTime = datetime.now()\n",
        "print(f\"Start Time: {startTime}\")\n",
        "testLoss, testAccuracy, labelList, predList = TestOneEpoch(model, testDataset, criterion)\n",
        "print(f\"Execution time: {datetime.now() - startTime}\")\n",
        "\n",
        "print(f\"[TEST] LOSS: {testLoss}, ACCURACY: {testAccuracy}\")\n",
        "ConfusionMatrix(_nClasses=2, _labelList=labelList, _predList=predList)"
      ]
    },
    {
      "cell_type": "markdown",
      "metadata": {
        "id": "vvFln6bEt88U"
      },
      "source": [
        "# Get GradCAM"
      ]
    },
    {
      "cell_type": "markdown",
      "metadata": {
        "id": "dgmXIUvWvpr3"
      },
      "source": [
        "## Define Utils"
      ]
    },
    {
      "cell_type": "code",
      "execution_count": 21,
      "metadata": {
        "id": "UIbHlr3RuYAF"
      },
      "outputs": [],
      "source": [
        "def ScaleCamImage(_cam, _targetSize=None):\n",
        "    result = list()\n",
        "    for image in _cam:\n",
        "        image = image - np.min(image)\n",
        "        image = image / (1e-7 + np.max(image)) \n",
        "        if _targetSize is not None:\n",
        "            image = cv2.resize(image, _targetSize)\n",
        "        result.append(image)\n",
        "    result = np.float32(result)\n",
        "\n",
        "    return result\n",
        "\n",
        "def Get2dProjection(_activationBatch):\n",
        "    # TBD: use pytorch batch svd implementation\n",
        "    _activationBatch[np.isnan(_activationBatch)] = 0\n",
        "    projections = list()\n",
        "\n",
        "    for activations in _activationBatch:\n",
        "        reshapedActivation = (activations).reshape(activations.shape[0], -1).transpose()\n",
        "\n",
        "        # Centering before the SVD seems to be important here,\n",
        "        # Otherwise the image returned is negative\n",
        "        reshapedActivation = reshapedActivation - reshapedActivation.mean(axis=0)\n",
        "        U, S, VT = np.linalg.svd(reshapedActivation, full_matrices=True)\n",
        "        projection = np.matmul(reshapedActivation, VT[0, :])\n",
        "        projections.append(projection)\n",
        "\n",
        "    return np.float32(projections)\n",
        "\n",
        "\n",
        "class ClassifierOutputTarget:\n",
        "    def __init__(self, _category):\n",
        "        self.m_Category = _category\n",
        "    def __call__(self, _modelOutput):\n",
        "        if len(_modelOutput.shape) == 1:\n",
        "            return _modelOutput[self.m_Category]\n",
        "        return _modelOutput[:, self.m_Category]\n",
        "\n",
        "class ActivationAndGradients:\n",
        "    \"\"\"\n",
        "    Class for extracting activations and\n",
        "    registering gradients from targetted intermediate layers\n",
        "    \n",
        "    \"\"\"\n",
        "\n",
        "    def __init__(self, _model, _targetLayers, _reshapedTransform):\n",
        "        self.m_Model = _model\n",
        "        self.m_Gradients = list()\n",
        "        self.m_Activations = list()\n",
        "        self.m_ReshapedTransform = _reshapedTransform\n",
        "        self.m_Handles = list()\n",
        "\n",
        "        self.m_Handles.append(_targetLayers.register_forward_hook(self.SaveActivation))\n",
        "        self.m_Handles.append(_targetLayers.register_forward_hook(self.SaveGradient))\n",
        "\n",
        "    def SaveActivation(self, _module, _input, _output):\n",
        "        activation = _output\n",
        "\n",
        "        if self.m_ReshapedTransform is not None:\n",
        "            activation = self.m_ReshapedTransform(activation)\n",
        "        self.m_Activations.append(activation.cpu().detach())\n",
        "\n",
        "    def SaveGradient(self, _module, _input, _output):\n",
        "        if not hasattr(_output, \"requires_grad\") or not _output.requires_grad:\n",
        "            # You can only register hooks on tensor requires grad.\n",
        "            return\n",
        "\n",
        "        # Gradients are computed in reverse order\n",
        "        def _StoreGrad(_grad):\n",
        "            if self.m_ReshapedTransform is not None:\n",
        "                _grad = self.m_ReshapedTransform(_grad)\n",
        "            self.m_Gradients = [_grad.cpu().detach()] + self.m_Gradients\n",
        "\n",
        "        _output.register_hook(_StoreGrad)\n",
        "\n",
        "    def __call__(self, _x):\n",
        "        self.m_Gradients = list()\n",
        "        self.m_Activations = list()\n",
        "        return self.m_Model(_x)\n",
        "\n",
        "    def Release(self):\n",
        "        for handle in self.m_Handles:\n",
        "            handle.remove()\n"
      ]
    },
    {
      "cell_type": "markdown",
      "metadata": {
        "id": "VsMcy8hvyN3x"
      },
      "source": [
        "## Define GradCAM"
      ]
    },
    {
      "cell_type": "code",
      "execution_count": 22,
      "metadata": {
        "id": "1euPNxz5uL6Y"
      },
      "outputs": [],
      "source": [
        "class BaseCAM:\n",
        "    def __init__(self, _model, _targetLayers, _useCuda=False, _reshapeTransform=None, _computeInputGradient=False, _usesGradients=True):\n",
        "        \"\"\"\n",
        "        # from typing import Callable, List, Tuple #\n",
        "        Args type\n",
        "            _model: torch.nn.Module\n",
        "            _targetLayers: List[torch.nn.Module]\n",
        "            _useCuda: bool\n",
        "            _reshapeTransform: Callable\n",
        "            _computeInputGradient: bool\n",
        "            _usesGradients: bool        \n",
        "        \n",
        "        Return type\n",
        "            : None\n",
        "        \"\"\"\n",
        "\n",
        "        self.m_Model = _model.eval()\n",
        "        self.m_TargetLayers = _targetLayers\n",
        "        self.m_Cuda = _useCuda\n",
        "\n",
        "        if self.m_Cuda:\n",
        "            self.m_Model = _model.cuda()\n",
        "\n",
        "        self.m_ReshapeTransform = _reshapeTransform\n",
        "        self.m_ComputeInputGradient = _computeInputGradient\n",
        "        self.m_UsesGradients = _usesGradients\n",
        "        self.m_ActivationsAndGrads = ActivationAndGradients(self.m_Model, _targetLayers, _reshapeTransform)\n",
        "\n",
        "    ##################################################################\n",
        "    # Get a vector of weights for every channel in the target layer. #\n",
        "    # Methods that return weights channels,                          #\n",
        "    # will typically need to only implement this function.           #\n",
        "    # ################################################################ \n",
        "\n",
        "    def GetCamWeights(self, _inputTensor, _targetLayers, _targets, _activations, _grads):\n",
        "        \"\"\"\n",
        "        Args type\n",
        "            _inputTensor: torch.Tensor\n",
        "            _targetLayers: Listp[torch.nn.Module]\n",
        "            _targets: List[torch.nn.Module]\n",
        "            _activations: torch.Tensor\n",
        "            _grads: torch.Tensor\n",
        "        \n",
        "        Return type\n",
        "            : np.ndarray\n",
        "        \n",
        "        \"\"\"\n",
        "        raise Exception(\"Not Implemented\")\n",
        "\n",
        "    def GetCamImage(self, _inputTensor, _targetLayer, _targets, _activations, _grads, _eigenSmooth=False):\n",
        "        \"\"\"\n",
        "        Args type\n",
        "            _inputTensor: torch.Tensor\n",
        "            _targetLayer: torch.nn.Module\n",
        "            _targets: List[torch.nn.Module]\n",
        "            _activations: torch.Tensor\n",
        "            _grads: torch.Tensor\n",
        "            _eigenSmooth: bool\n",
        "        \n",
        "        Return type\n",
        "            cam: np.ndarray\n",
        "        \n",
        "        \"\"\"\n",
        "\n",
        "        weights = self.GetCamWeights(_inputTensor, _targetLayer, _targets, _activations, _grads)\n",
        "        weightedActivations = weights[:, None, None] * _activations\n",
        "        # weightedActivations = weights[:, :, None, None] * _activations\n",
        "\n",
        "        if _eigenSmooth:\n",
        "            cam = Get2dProjection(weightedActivations)\n",
        "\n",
        "        else:\n",
        "            cam = weightedActivations.sum(axis=1)\n",
        "        return cam\n",
        "\n",
        "    def Forward(self, _inputTensor, _targets, _eigenSmooth=False):\n",
        "        \"\"\"\n",
        "        Args type\n",
        "            _inputTensor: torch.Tensor\n",
        "            _targets: List[torch.nn.Module]\n",
        "            _eigenSmooth: bool\n",
        "\n",
        "        Return type\n",
        "            : np.ndarray\n",
        "\n",
        "        \"\"\"\n",
        "\n",
        "        if self.m_Cuda:\n",
        "            _inputTensor = _inputTensor.cuda()\n",
        "\n",
        "        if self.m_ComputeInputGradient:\n",
        "            _inputTensor = torch.autograd.Variable(_inputTensor, requires_grad=True)\n",
        "\n",
        "        outputs = self.m_ActivationsAndGrads(_inputTensor)\n",
        "        if _targets is None:\n",
        "            targetCategories = np.argmax(outputs.cpu().data.numpy(), axis=-1)\n",
        "            _targets = [ClassifierOutputTarget(category) for category in targetCategories]\n",
        "\n",
        "        if self.m_UsesGradients:\n",
        "            self.m_Model.zero_grad()\n",
        "            loss = sum([target(output) for target, output in zip(_targets, outputs)])\n",
        "            loss.backward(retain_graph=True)\n",
        "\n",
        "        # In most of the saliency attribution papers, the saliency is\n",
        "        # coputed with a single target layer.\n",
        "        # Commonly it is the last convolutional layer.\n",
        "        # Here we support passing a list with multiple target layers.\n",
        "        # It will compute the saliency image for every image,\n",
        "        # and then aggregate them (with a default mean aggregation).\n",
        "        # This gives you more flexibility in case you just want to\n",
        "        # use all conv layers for example, all Batchnorm layers,\n",
        "        # or something else.\n",
        "        camPerLayer = self.ComputeCamPerLayer(_inputTensor, _targets, _eigenSmooth)\n",
        "\n",
        "        return self.AggregateMultiLayers(camPerLayer)\n",
        "\n",
        "    def GetTargetWidthHeight(self, _inputTensor):\n",
        "        \"\"\"\n",
        "        Args type\n",
        "            _inputTensor: torch.Tensor\n",
        "\n",
        "        Return type\n",
        "            width, height: Tuple[int, int]\n",
        "        \n",
        "        \"\"\"\n",
        "        width, height = _inputTensor.size(-1), _inputTensor.size(-2)\n",
        "\n",
        "        return width, height\n",
        "\n",
        "\n",
        "    def ComputeCamPerLayer(self, _inputTensor, _targets, _eigenSmooth):\n",
        "        \"\"\"\n",
        "        Args type\n",
        "            _inputTensor: torch.Tensor\n",
        "            _targets: List[torch.nn.Module]\n",
        "            _eigenSmooth: bool\n",
        "\n",
        "        Return type\n",
        "            camPerTargetLayer: np.ndarray\n",
        "        \n",
        "        \"\"\"\n",
        "\n",
        "        activationsList = [acti.cpu().data.numpy() for acti in self.m_ActivationsAndGrads.m_Activations]\n",
        "        gradsList = [grad.cpu().data.numpy() for grad in self.m_ActivationsAndGrads.m_Gradients]\n",
        "        targetSize = self.GetTargetWidthHeight(_inputTensor)\n",
        "\n",
        "        camPertargetLayer = list()\n",
        "        \n",
        "        # # Loop over the saliency image from every layer\n",
        "        # for i in range(len(self.m_TargetLayers)):\n",
        "        #     targetLayer = self.m_TargetLayers[i]\n",
        "        #     layerActivations = None\n",
        "        #     layerGrads = None\n",
        "\n",
        "        #     if i < len(activationsList):\n",
        "        #         layerActivations = activationsList[i]\n",
        "\n",
        "        #     if i < len(gradsList):\n",
        "        #         layerGrads = gradsList[i]\n",
        "\n",
        "        #     cam = self.GetCamImage(_inputTensor, targetLayer, _targets, layerActivations, layerGrads, _eigenSmooth)\n",
        "        #     cam = np.maximum(cam, 0)\n",
        "        #     scaled = ScaleCamImage(cam, targetSize)\n",
        "        #     camPertargetLayer.append(scaled[:, None, :])\n",
        "\n",
        "        targetLayer = self.m_TargetLayers\n",
        "        layerActivations = None\n",
        "        layerGrads = None\n",
        "\n",
        "        layerActivations = activationsList\n",
        "        layerGrads = gradsList\n",
        "\n",
        "        cam = self.GetCamImage(_inputTensor, targetLayer, _targets, layerActivations, layerGrads, _eigenSmooth)\n",
        "        cam = np.maximum(cam, 0)\n",
        "        scaled = ScaleCamImage(cam, targetSize)\n",
        "        camPertargetLayer.append(scaled[:, None, :])\n",
        "\n",
        "        return camPertargetLayer\n",
        "\n",
        "    def AggregateMultiLayers(self, _camPerTargetLayer):\n",
        "        \"\"\"\n",
        "        Args type\n",
        "            _camPerTargetLayer: np.ndarray\n",
        "\n",
        "        Return type\n",
        "            ScaleCamImage(result): np.ndarray\n",
        "        \n",
        "        \"\"\"\n",
        "\n",
        "        camPerTargetLayer = np.concatenate(_camPerTargetLayer, axis=1)\n",
        "        camPerTargetLayer = np.maximum(camPerTargetLayer, 0)\n",
        "        result = np.mean(camPerTargetLayer, axis=1)\n",
        "\n",
        "        return ScaleCamImage(result)\n",
        "\n",
        "    def __call__(self, _inputTensor, _targets=None, _eigenSmooth=False):\n",
        "        \"\"\"\n",
        "        Args type:\n",
        "            _inputTensor: torch.Tensor\n",
        "            _targets: List[torch.nn.Module]\n",
        "            _eigenSmooth: bool\n",
        "\n",
        "        Return type\n",
        "            self.Forward(_inputTensor, _targets, _eigenSmooth): np.ndarray\n",
        "        \n",
        "        \"\"\"\n",
        "\n",
        "        return self.Forward(_inputTensor, _targets, _eigenSmooth)\n",
        "\n",
        "    def __del__(self):\n",
        "        self.m_ActivationsAndGrads.Release()\n",
        "\n",
        "    def __enter__(self):\n",
        "        return self\n",
        "\n",
        "    def __exit__(self, _excType, _excValue, _excTb):\n",
        "        self.m-ActivationAndGradients.Release()\n",
        "        if isinstance(_excValue, IndexError):\n",
        "            # Handle IndexError here...\n",
        "            print(f\"An exception occurred in CAM with block: {_excType}. Message: {_excValue}\")\n",
        "            return True"
      ]
    },
    {
      "cell_type": "code",
      "execution_count": 23,
      "metadata": {
        "id": "5Wt2lOYSvpr4"
      },
      "outputs": [],
      "source": [
        "class GradCAM(BaseCAM):\n",
        "    def __init__(self, _model, _targetLayers, _useCuda=False, _reshapeTransform=None):\n",
        "        super(GradCAM, self).__init__(_model, _targetLayers, _useCuda, _reshapeTransform)\n",
        "\n",
        "    def GetCamWeights(self, _inputTensor, _targetLayer, _targetCategory, _activations, _grads):\n",
        "        return np.mean(_grads, axis=(1, 2))"
      ]
    },
    {
      "cell_type": "markdown",
      "metadata": {
        "id": "SICrVwEevpr5"
      },
      "source": [
        "## Apply a target layer to GradCAM"
      ]
    },
    {
      "cell_type": "code",
      "execution_count": 24,
      "metadata": {
        "id": "eEms9hMrvpr4"
      },
      "outputs": [],
      "source": [
        "# create heatmap from mask on image\n",
        "def ShowCamOnImage(_img, _mask):\n",
        "  heatmap = cv2.applyColorMap(np.uint8(255 * _mask), cv2.COLORMAP_JET)\n",
        "  heatmap = np.float32(heatmap) / 255\n",
        "  cam = heatmap + np.float32(_img)\n",
        "  cam = cam / np.max(cam)\n",
        "\n",
        "  return cam"
      ]
    },
    {
      "cell_type": "code",
      "execution_count": 25,
      "metadata": {
        "id": "jmRs1lo2wnxt"
      },
      "outputs": [],
      "source": [
        "gc.collect()\n",
        "torch.cuda.empty_cache()"
      ]
    },
    {
      "cell_type": "code",
      "execution_count": 31,
      "metadata": {
        "colab": {
          "base_uri": "https://localhost:8080/"
        },
        "id": "hqAGew4rt8XV",
        "outputId": "4f477563-40c8-44dd-ff4a-066364826140"
      },
      "outputs": [
        {
          "data": {
            "text/plain": [
              "AdaptiveAvgPool2d(output_size=1)"
            ]
          },
          "execution_count": 31,
          "metadata": {},
          "output_type": "execute_result"
        }
      ],
      "source": [
        "targetLayer = model.m_AvgPool\n",
        "targetLayer"
      ]
    },
    {
      "cell_type": "code",
      "execution_count": 32,
      "metadata": {
        "id": "H7mU_I23vpr5"
      },
      "outputs": [],
      "source": [
        "sampleDataset = next(iter(testDataset))"
      ]
    },
    {
      "cell_type": "code",
      "execution_count": 33,
      "metadata": {
        "id": "omgSFbBpu4u9"
      },
      "outputs": [],
      "source": [
        "cam = GradCAM(_model=model, _targetLayers=targetLayer, _useCuda=True)"
      ]
    },
    {
      "cell_type": "code",
      "execution_count": 34,
      "metadata": {
        "colab": {
          "base_uri": "https://localhost:8080/"
        },
        "id": "elepBD1Kux7W",
        "outputId": "22698d69-fade-4c7d-c6f0-a39bc18d8b86"
      },
      "outputs": [
        {
          "name": "stdout",
          "output_type": "stream",
          "text": [
            "[[0.         0.         0.         ... 0.         0.         0.        ]\n",
            " [0.10757224 0.10757224 0.10757224 ... 0.10757224 0.10757224 0.10757224]\n",
            " [0.37125888 0.37125888 0.37125888 ... 0.37125888 0.37125888 0.37125888]\n",
            " ...\n",
            " [0.02563345 0.02563345 0.02563345 ... 0.02563345 0.02563345 0.02563345]\n",
            " [0.         0.         0.         ... 0.         0.         0.        ]\n",
            " [0.04043632 0.04043632 0.04043632 ... 0.04043632 0.04043632 0.04043632]]\n",
            "(224, 224)\n"
          ]
        }
      ],
      "source": [
        "grayscaleCam = cam(_inputTensor=sampleDataset[0])\n",
        "grayscaleCam = grayscaleCam[0, :]\n",
        "print(grayscaleCam)\n",
        "print(grayscaleCam.shape)"
      ]
    },
    {
      "cell_type": "code",
      "execution_count": 35,
      "metadata": {
        "id": "lyv9oFY2zg6c"
      },
      "outputs": [],
      "source": [
        "testImage = sampleDataset[0][0].numpy()\n",
        "testImage = np.transpose(testImage, (1, 2, 0))"
      ]
    },
    {
      "cell_type": "code",
      "execution_count": 36,
      "metadata": {
        "id": "i7p3nM0nuxvs"
      },
      "outputs": [],
      "source": [
        "visualization = ShowCamOnImage(testImage, grayscaleCam)"
      ]
    },
    {
      "cell_type": "code",
      "execution_count": 37,
      "metadata": {
        "colab": {
          "base_uri": "https://localhost:8080/",
          "height": 203
        },
        "id": "9SdAS5Tczgo6",
        "outputId": "1626b288-a189-42ae-f110-fac3b55854dc"
      },
      "outputs": [
        {
          "name": "stderr",
          "output_type": "stream",
          "text": [
            "Clipping input data to the valid range for imshow with RGB data ([0..1] for floats or [0..255] for integers).\n",
            "Clipping input data to the valid range for imshow with RGB data ([0..1] for floats or [0..255] for integers).\n"
          ]
        },
        {
          "data": {
            "text/plain": [
              "<matplotlib.image.AxesImage at 0x7fad100b6690>"
            ]
          },
          "execution_count": 37,
          "metadata": {},
          "output_type": "execute_result"
        },
        {
          "data": {
            "image/png": "[encoded data removed]",
            "text/plain": [
              "<Figure size 432x288 with 3 Axes>"
            ]
          },
          "metadata": {
            "needs_background": "light"
          },
          "output_type": "display_data"
        }
      ],
      "source": [
        "fig, axs = plt.subplots(1, 3)\n",
        "axs[0].imshow(testImage)\n",
        "axs[0].axis('off')\n",
        "\n",
        "axs[1].imshow(grayscaleCam)\n",
        "axs[2].imshow(visualization)"
      ]
    }
  ],
  "metadata": {
    "accelerator": "GPU",
    "colab": {
      "collapsed_sections": [],
      "name": "ConvNeXtTrainingAndGradCAM.ipynb",
      "provenance": [],
      "toc_visible": true
    },
    "kernelspec": {
      "display_name": "Python 3",
      "name": "python3"
    },
    "language_info": {
      "name": "python"
    },
    "orig_nbformat": 4
  },
  "nbformat": 4,
  "nbformat_minor": 0
}
