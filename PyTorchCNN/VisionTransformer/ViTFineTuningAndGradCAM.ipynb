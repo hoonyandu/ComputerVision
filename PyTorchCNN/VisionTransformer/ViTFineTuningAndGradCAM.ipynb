{
  "cells": [
    {
      "cell_type": "markdown",
      "metadata": {
        "id": "08vtGnsshrIc"
      },
      "source": [
        "# Vision Transformer in PyTorch"
      ]
    },
    {
      "cell_type": "markdown",
      "metadata": {
        "id": "Vjdjo_SPhrIg"
      },
      "source": [
        "https://github.com/lukysummer/Vision-Transformer-in-PyTorch/blob/main/ViT_Fine_Tuning.ipynb"
      ]
    },
    {
      "cell_type": "markdown",
      "metadata": {
        "id": "gXhC61NBvprr"
      },
      "source": [
        "https://github.com/jacobgil/pytorch-grad-cam"
      ]
    },
    {
      "cell_type": "markdown",
      "metadata": {
        "id": "PLOx8iIvhrIl"
      },
      "source": [
        "## Import your Google drive if necessary"
      ]
    },
    {
      "cell_type": "code",
      "execution_count": null,
      "metadata": {
        "colab": {
          "base_uri": "https://localhost:8080/"
        },
        "id": "xZ8dS42VhrIm",
        "outputId": "7b1b5f91-9019-4515-a994-0bd89745d967"
      },
      "outputs": [
        {
          "output_type": "stream",
          "name": "stdout",
          "text": [
            "Mounted at /content/drive\n"
          ]
        }
      ],
      "source": [
        "from google.colab import drive\n",
        "drive.mount('/content/drive')"
      ]
    },
    {
      "cell_type": "markdown",
      "metadata": {
        "id": "aZyFgebehrIi"
      },
      "source": [
        "## Import Libraries"
      ]
    },
    {
      "cell_type": "code",
      "execution_count": null,
      "metadata": {
        "colab": {
          "base_uri": "https://localhost:8080/"
        },
        "id": "8GLoTye_vpru",
        "outputId": "c119e2c1-2458-4523-e6bf-627ff51830cd"
      },
      "outputs": [
        {
          "output_type": "stream",
          "name": "stdout",
          "text": [
            "Collecting timm\n",
            "  Downloading timm-0.5.4-py3-none-any.whl (431 kB)\n",
            "\u001b[?25l\r\u001b[K     |▊                               | 10 kB 34.9 MB/s eta 0:00:01\r\u001b[K     |█▌                              | 20 kB 28.2 MB/s eta 0:00:01\r\u001b[K     |██▎                             | 30 kB 18.6 MB/s eta 0:00:01\r\u001b[K     |███                             | 40 kB 16.0 MB/s eta 0:00:01\r\u001b[K     |███▉                            | 51 kB 11.8 MB/s eta 0:00:01\r\u001b[K     |████▋                           | 61 kB 13.8 MB/s eta 0:00:01\r\u001b[K     |█████▎                          | 71 kB 14.4 MB/s eta 0:00:01\r\u001b[K     |██████                          | 81 kB 14.5 MB/s eta 0:00:01\r\u001b[K     |██████▉                         | 92 kB 16.0 MB/s eta 0:00:01\r\u001b[K     |███████▋                        | 102 kB 14.8 MB/s eta 0:00:01\r\u001b[K     |████████▍                       | 112 kB 14.8 MB/s eta 0:00:01\r\u001b[K     |█████████▏                      | 122 kB 14.8 MB/s eta 0:00:01\r\u001b[K     |█████████▉                      | 133 kB 14.8 MB/s eta 0:00:01\r\u001b[K     |██████████▋                     | 143 kB 14.8 MB/s eta 0:00:01\r\u001b[K     |███████████▍                    | 153 kB 14.8 MB/s eta 0:00:01\r\u001b[K     |████████████▏                   | 163 kB 14.8 MB/s eta 0:00:01\r\u001b[K     |█████████████                   | 174 kB 14.8 MB/s eta 0:00:01\r\u001b[K     |█████████████▊                  | 184 kB 14.8 MB/s eta 0:00:01\r\u001b[K     |██████████████▍                 | 194 kB 14.8 MB/s eta 0:00:01\r\u001b[K     |███████████████▏                | 204 kB 14.8 MB/s eta 0:00:01\r\u001b[K     |████████████████                | 215 kB 14.8 MB/s eta 0:00:01\r\u001b[K     |████████████████▊               | 225 kB 14.8 MB/s eta 0:00:01\r\u001b[K     |█████████████████▌              | 235 kB 14.8 MB/s eta 0:00:01\r\u001b[K     |██████████████████▎             | 245 kB 14.8 MB/s eta 0:00:01\r\u001b[K     |███████████████████             | 256 kB 14.8 MB/s eta 0:00:01\r\u001b[K     |███████████████████▊            | 266 kB 14.8 MB/s eta 0:00:01\r\u001b[K     |████████████████████▌           | 276 kB 14.8 MB/s eta 0:00:01\r\u001b[K     |█████████████████████▎          | 286 kB 14.8 MB/s eta 0:00:01\r\u001b[K     |██████████████████████          | 296 kB 14.8 MB/s eta 0:00:01\r\u001b[K     |██████████████████████▉         | 307 kB 14.8 MB/s eta 0:00:01\r\u001b[K     |███████████████████████▌        | 317 kB 14.8 MB/s eta 0:00:01\r\u001b[K     |████████████████████████▎       | 327 kB 14.8 MB/s eta 0:00:01\r\u001b[K     |█████████████████████████       | 337 kB 14.8 MB/s eta 0:00:01\r\u001b[K     |█████████████████████████▉      | 348 kB 14.8 MB/s eta 0:00:01\r\u001b[K     |██████████████████████████▋     | 358 kB 14.8 MB/s eta 0:00:01\r\u001b[K     |███████████████████████████▍    | 368 kB 14.8 MB/s eta 0:00:01\r\u001b[K     |████████████████████████████    | 378 kB 14.8 MB/s eta 0:00:01\r\u001b[K     |████████████████████████████▉   | 389 kB 14.8 MB/s eta 0:00:01\r\u001b[K     |█████████████████████████████▋  | 399 kB 14.8 MB/s eta 0:00:01\r\u001b[K     |██████████████████████████████▍ | 409 kB 14.8 MB/s eta 0:00:01\r\u001b[K     |███████████████████████████████▏| 419 kB 14.8 MB/s eta 0:00:01\r\u001b[K     |████████████████████████████████| 430 kB 14.8 MB/s eta 0:00:01\r\u001b[K     |████████████████████████████████| 431 kB 14.8 MB/s \n",
            "\u001b[?25hRequirement already satisfied: torch>=1.4 in /usr/local/lib/python3.7/dist-packages (from timm) (1.10.0+cu111)\n",
            "Requirement already satisfied: torchvision in /usr/local/lib/python3.7/dist-packages (from timm) (0.11.1+cu111)\n",
            "Requirement already satisfied: typing-extensions in /usr/local/lib/python3.7/dist-packages (from torch>=1.4->timm) (3.10.0.2)\n",
            "Requirement already satisfied: pillow!=8.3.0,>=5.3.0 in /usr/local/lib/python3.7/dist-packages (from torchvision->timm) (7.1.2)\n",
            "Requirement already satisfied: numpy in /usr/local/lib/python3.7/dist-packages (from torchvision->timm) (1.21.5)\n",
            "Installing collected packages: timm\n",
            "Successfully installed timm-0.5.4\n"
          ]
        }
      ],
      "source": [
        "!pip install timm"
      ]
    },
    {
      "cell_type": "code",
      "source": [
        "!pip install ttach"
      ],
      "metadata": {
        "colab": {
          "base_uri": "https://localhost:8080/"
        },
        "id": "dzKyYX4UwGQq",
        "outputId": "4eee15a5-6148-4ce8-d444-682b48b7d139"
      },
      "execution_count": null,
      "outputs": [
        {
          "output_type": "stream",
          "name": "stdout",
          "text": [
            "Collecting ttach\n",
            "  Downloading ttach-0.0.3-py3-none-any.whl (9.8 kB)\n",
            "Installing collected packages: ttach\n",
            "Successfully installed ttach-0.0.3\n"
          ]
        }
      ]
    },
    {
      "cell_type": "code",
      "execution_count": null,
      "metadata": {
        "id": "zYpjeRs2hrIj"
      },
      "outputs": [],
      "source": [
        "import torch\n",
        "import torchvision\n",
        "from torchvision import transforms\n",
        "from torch.utils.data import DataLoader\n",
        "import os\n",
        "import random\n",
        "import numpy as np\n",
        "import timm\n",
        "import gc\n",
        "import matplotlib.pyplot as plt\n",
        "from sklearn.metrics import confusion_matrix, classification_report\n",
        "import cv2\n",
        "\n",
        "from datetime import datetime"
      ]
    },
    {
      "cell_type": "code",
      "execution_count": null,
      "metadata": {
        "id": "4j4z2GyAfDun"
      },
      "outputs": [],
      "source": [
        "modelPath = (\n",
        "    \"/content/drive/MyDrive/models/jx_vit_base_p16_224-80ecf9dd.pth\"\n",
        "    # \"/content/drive/MyDrive/models/torchViT/model_5e_20220223-0746.pth\"\n",
        ")\n",
        "preModelName = \"vit_base_patch16_224\"\n",
        "saveModelName = 'model_ViT_220224.pth'\n",
        "learningRate = 2e-05\n",
        "nEpochs = 10"
      ]
    },
    {
      "cell_type": "code",
      "execution_count": null,
      "metadata": {
        "id": "zx3HJ_DDhrIr"
      },
      "outputs": [],
      "source": [
        "def SetSeed(_seed):\n",
        "    random.seed(_seed)\n",
        "    np.random.seed(_seed)\n",
        "    torch.manual_seed(_seed)\n",
        "    torch.cuda.manual_seed_all(_seed)\n",
        "\n",
        "device = torch.device(\"cuda\" if torch.cuda.is_available() else \"cpu\")\n",
        "SetSeed(42)"
      ]
    },
    {
      "cell_type": "markdown",
      "metadata": {
        "id": "fyC8vs8KhrIn"
      },
      "source": [
        "## Define Dataloaders"
      ]
    },
    {
      "cell_type": "code",
      "execution_count": null,
      "metadata": {
        "id": "rEWWbYnDhrIo"
      },
      "outputs": [],
      "source": [
        "imageDim = 224\n",
        "dirPath = '/content/drive/MyDrive/normalized-set'\n",
        "batchSize = 32"
      ]
    },
    {
      "cell_type": "code",
      "execution_count": null,
      "metadata": {
        "id": "n1DL3aBnhrIp"
      },
      "outputs": [],
      "source": [
        "def LoadDataset(_dataset):\n",
        "    dsPath = os.path.join(dirPath, _dataset)\n",
        "    dataGenerator = transforms.Compose([\n",
        "        transforms.Resize((imageDim, imageDim)),\n",
        "        transforms.ToTensor(),\n",
        "        transforms.Normalize((0.5, 0.5, 0.5), (0.5, 0.5, 0.5))\n",
        "    ])\n",
        "\n",
        "    dataFolder = torchvision.datasets.ImageFolder(\n",
        "        root = dsPath,\n",
        "        transform = dataGenerator,\n",
        "    )\n",
        "\n",
        "    datasetLoader = DataLoader(\n",
        "        dataFolder,\n",
        "        batch_size=batchSize,\n",
        "        shuffle=True,\n",
        "    )\n",
        "\n",
        "    datasetLoader.requires_grad = True\n",
        "\n",
        "    print(_dataset + \" Class [\", datasetLoader.dataset.class_to_idx, \"]\")\n",
        "    print(_dataset + \" Numbers [\", len(datasetLoader.dataset.imgs), \"]\")\n",
        "    print(_dataset + \" Batch Size [\", datasetLoader.batch_size, \"]\")\n",
        "\n",
        "    return datasetLoader"
      ]
    },
    {
      "cell_type": "code",
      "execution_count": null,
      "metadata": {
        "colab": {
          "base_uri": "https://localhost:8080/"
        },
        "id": "jLm-2RvghrIq",
        "outputId": "c5021656-2eb1-4234-ecd1-942739d0c2a8"
      },
      "outputs": [
        {
          "output_type": "stream",
          "name": "stdout",
          "text": [
            "training Class [ {'benign': 0, 'malware': 1} ]\n",
            "training Numbers [ 24130 ]\n",
            "training Batch Size [ 32 ]\n",
            "validation Class [ {'benign': 0, 'malware': 1} ]\n",
            "validation Numbers [ 6890 ]\n",
            "validation Batch Size [ 32 ]\n",
            "test Class [ {'benign': 0, 'malware': 1} ]\n",
            "test Numbers [ 3442 ]\n",
            "test Batch Size [ 32 ]\n"
          ]
        }
      ],
      "source": [
        "trainDataset = LoadDataset('training')\n",
        "validationDataset = LoadDataset('validation')\n",
        "testDataset = LoadDataset('test')"
      ]
    },
    {
      "cell_type": "markdown",
      "metadata": {
        "id": "A10OCoFJhrIr"
      },
      "source": [
        "## Define ViT model from downloadable pre-trained checkpoints"
      ]
    },
    {
      "cell_type": "code",
      "execution_count": null,
      "metadata": {
        "colab": {
          "base_uri": "https://localhost:8080/"
        },
        "id": "8NdsyQTcXG6g",
        "outputId": "20919b01-cb15-448a-9f14-87769b974a1e"
      },
      "outputs": [
        {
          "output_type": "stream",
          "name": "stdout",
          "text": [
            "Available Vision Transformer Models: \n"
          ]
        },
        {
          "output_type": "execute_result",
          "data": {
            "text/plain": [
              "['vit_base_patch8_224',\n",
              " 'vit_base_patch8_224_in21k',\n",
              " 'vit_base_patch16_224',\n",
              " 'vit_base_patch16_224_in21k',\n",
              " 'vit_base_patch16_224_miil',\n",
              " 'vit_base_patch16_224_miil_in21k',\n",
              " 'vit_base_patch16_384',\n",
              " 'vit_base_patch16_sam_224',\n",
              " 'vit_base_patch32_224',\n",
              " 'vit_base_patch32_224_in21k',\n",
              " 'vit_base_patch32_384',\n",
              " 'vit_base_patch32_sam_224',\n",
              " 'vit_base_r26_s32_224',\n",
              " 'vit_base_r50_s16_224',\n",
              " 'vit_base_r50_s16_224_in21k',\n",
              " 'vit_base_r50_s16_384',\n",
              " 'vit_base_resnet26d_224',\n",
              " 'vit_base_resnet50_224_in21k',\n",
              " 'vit_base_resnet50_384',\n",
              " 'vit_base_resnet50d_224',\n",
              " 'vit_giant_patch14_224',\n",
              " 'vit_gigantic_patch14_224',\n",
              " 'vit_huge_patch14_224',\n",
              " 'vit_huge_patch14_224_in21k',\n",
              " 'vit_large_patch16_224',\n",
              " 'vit_large_patch16_224_in21k',\n",
              " 'vit_large_patch16_384',\n",
              " 'vit_large_patch32_224',\n",
              " 'vit_large_patch32_224_in21k',\n",
              " 'vit_large_patch32_384',\n",
              " 'vit_large_r50_s32_224',\n",
              " 'vit_large_r50_s32_224_in21k',\n",
              " 'vit_large_r50_s32_384',\n",
              " 'vit_small_patch16_224',\n",
              " 'vit_small_patch16_224_in21k',\n",
              " 'vit_small_patch16_384',\n",
              " 'vit_small_patch32_224',\n",
              " 'vit_small_patch32_224_in21k',\n",
              " 'vit_small_patch32_384',\n",
              " 'vit_small_r26_s32_224',\n",
              " 'vit_small_r26_s32_224_in21k',\n",
              " 'vit_small_r26_s32_384',\n",
              " 'vit_small_resnet26d_224',\n",
              " 'vit_small_resnet50d_s16_224',\n",
              " 'vit_tiny_patch16_224',\n",
              " 'vit_tiny_patch16_224_in21k',\n",
              " 'vit_tiny_patch16_384',\n",
              " 'vit_tiny_r_s16_p8_224',\n",
              " 'vit_tiny_r_s16_p8_224_in21k',\n",
              " 'vit_tiny_r_s16_p8_384']"
            ]
          },
          "metadata": {},
          "execution_count": 12
        }
      ],
      "source": [
        "print(\"Available Vision Transformer Models: \")\n",
        "timm.list_models(\"vit*\")"
      ]
    },
    {
      "cell_type": "markdown",
      "metadata": {
        "id": "IKIqk32_vpry"
      },
      "source": [
        "## Define ViT Model"
      ]
    },
    {
      "cell_type": "code",
      "execution_count": null,
      "metadata": {
        "id": "xuKfnkVlXVyW"
      },
      "outputs": [],
      "source": [
        "class ViTBase16(torch.nn.Module):\n",
        "  def __init__(self, _nClasses, _preModelName,_modelPath, _pretrained=False):\n",
        "    super(ViTBase16, self).__init__()\n",
        "    self.m_Model = timm.create_model(_preModelName, pretrained=False)\n",
        "\n",
        "    if _pretrained:\n",
        "      self.m_Model.load_state_dict(torch.load(_modelPath))\n",
        "\n",
        "    self.m_Model.head = torch.nn.Linear(self.m_Model.head.in_features, _nClasses)\n",
        "\n",
        "  def forward(self, _x):\n",
        "    x = self.m_Model(_x)\n",
        "    return x\n",
        "\n",
        "  def TrainOneEpoch(self, _trainLoader, _criterion, _optimizer, _device):\n",
        "    # keep track of training loss\n",
        "    epochLoss = 0.0\n",
        "    epochAccuracy = 0.0\n",
        "\n",
        "    ####################\n",
        "    # train the model  #\n",
        "    ####################\n",
        "    self.m_Model.train()\n",
        "    for i, (data, target) in enumerate(_trainLoader):\n",
        "      # move tensors to GPU if CUDA is avaliable:\n",
        "      data, target = data.cuda(), target.cuda()\n",
        "      \n",
        "      # clear the gradients of all optimized variables\n",
        "      _optimizer.zero_grad()\n",
        "\n",
        "      # forward pass: compute predicted outputs by passing inputs to the model\n",
        "      output = self.forward(data)\n",
        "\n",
        "      # calculate the batch loss\n",
        "      loss = _criterion(output, target)\n",
        "\n",
        "      # backward pass: compute gradient of the loss with respect to model parameters\n",
        "      loss.backward()\n",
        "\n",
        "      # Calculate Accuracy\n",
        "      accuracy = (output.argmax(dim=1) == target).float().mean()\n",
        "\n",
        "      # update training loss and accuracy\n",
        "      epochLoss = epochLoss + loss\n",
        "      epochAccuracy = epochAccuracy + accuracy\n",
        "\n",
        "      # perform a single optimization step (parameter update)\n",
        "      _optimizer.step()\n",
        "    \n",
        "    return epochLoss / len(_trainLoader), epochAccuracy / len(_trainLoader)\n",
        "\n",
        "  def ValidateOneEpoch(self, _validLoader, _criterion, _device):\n",
        "    # keep track of validation loss\n",
        "    validLoss = 0.0\n",
        "    validAccuracy = 0.0\n",
        "\n",
        "    ######################\n",
        "    # validate the model #\n",
        "    ######################\n",
        "    self.m_Model.eval()\n",
        "\n",
        "    for data, target in _validLoader:\n",
        "      # move tensors to PUT if CUDA is avaliable\n",
        "      data, target = data.cuda(), target.cuda()\n",
        "\n",
        "      with torch.no_grad():\n",
        "        # forward pass: compute predicted outputs by passing inputs to the model\n",
        "        output = self.m_Model(data)\n",
        "\n",
        "        # calculate the batch loss\n",
        "        loss = _criterion(output, target)\n",
        "\n",
        "        # Calculate Accuracy\n",
        "        accuracy = (output.argmax(dim=1) == target).float().mean()\n",
        "\n",
        "        # update average validation loss and accuracy\n",
        "        validLoss = validLoss + loss\n",
        "        validAccuracy = validAccuracy + accuracy\n",
        "\n",
        "    return validLoss / len(_validLoader), validAccuracy / len(_validLoader)"
      ]
    },
    {
      "cell_type": "markdown",
      "metadata": {
        "id": "66sf5ZAshrIu"
      },
      "source": [
        "## Define ViT Fine-tuning Function"
      ]
    },
    {
      "cell_type": "code",
      "execution_count": null,
      "metadata": {
        "id": "zaiBZbUKaiCm"
      },
      "outputs": [],
      "source": [
        "def TrainModel(_model, _epochs, _device, _criterion, _optimizer, _trainLoader, _validLoader=None):\n",
        "  validLossMin = np.Inf # track change in validation loss\n",
        "\n",
        "  # keeping track of losses as it happen\n",
        "  trainLosses = list()\n",
        "  validLosses = list()\n",
        "  trainAccs = list()\n",
        "  validAccs = list()\n",
        "  \n",
        "  for epoch in range(1, _epochs + 1):\n",
        "    gc.collect()\n",
        "    trainLoss, trainAcc = _model.TrainOneEpoch(_trainLoader, _criterion, _optimizer, _device)\n",
        "    print(f\"[TRAIN] EPOCH {epoch} - LOSS: {trainLoss}, ACCURACY: {trainAcc}\")\n",
        "    trainLosses.append(trainLoss.item())\n",
        "    trainAccs.append(trainAcc.item())\n",
        "    gc.collect()\n",
        "\n",
        "    if _validLoader is not None:\n",
        "      gc.collect()\n",
        "      validLoss, validAcc = _model.ValidateOneEpoch(_validLoader, _criterion, _device)\n",
        "      print(f\"[VALID] EPOCH {epoch} - LOSS: {validLoss}, ACCURACY: {validAcc}\")\n",
        "      validLosses.append(validLoss.item())\n",
        "      validAccs.append(validAcc.item())\n",
        "      gc.collect()\n",
        "\n",
        "      if validLoss <= validLossMin and epoch != 1:\n",
        "        print(\"Validation loss decreased ({:.4f} --> {:.4f}). Saving model ...\".format(validLossMin, validLoss))\n",
        "        torch.save(_model.state_dict(), 'best_model.pth')\n",
        "      validLossMin = validLoss\n",
        "  \n",
        "  return trainLosses, validLosses, trainAccs, validAccs"
      ]
    },
    {
      "cell_type": "markdown",
      "metadata": {
        "id": "619BiIFPvpr0"
      },
      "source": [
        "## Fine-tune ViT!"
      ]
    },
    {
      "cell_type": "code",
      "execution_count": null,
      "metadata": {
        "id": "YMKGF1cadja-"
      },
      "outputs": [],
      "source": [
        "model = ViTBase16(_nClasses=2, _preModelName=preModelName, _modelPath=modelPath, _pretrained=True)"
      ]
    },
    {
      "cell_type": "code",
      "execution_count": null,
      "metadata": {
        "colab": {
          "base_uri": "https://localhost:8080/"
        },
        "id": "_Sb7U2OrfRyu",
        "outputId": "9d96c15a-7c2e-4ea9-b53e-e721a4d6ee72"
      },
      "outputs": [
        {
          "name": "stdout",
          "output_type": "stream",
          "text": [
            "Start Time: 2022-02-23 05:40:20.537828\n",
            "[TRAIN] EPOCH 1 - LOSS: 0.29307103157043457, ACCURACY: 0.868708610534668\n",
            "[VALID] EPOCH 1 - LOSS: 0.2361448109149933, ACCURACY: 0.8995081186294556\n",
            "[TRAIN] EPOCH 2 - LOSS: 0.1624545454978943, ACCURACY: 0.9310430884361267\n",
            "[VALID] EPOCH 2 - LOSS: 0.1910196989774704, ACCURACY: 0.9182291626930237\n",
            "Validation loss decreased (0.2361 --> 0.1910). Savine model ...\n",
            "[TRAIN] EPOCH 3 - LOSS: 0.1062287986278534, ACCURACY: 0.9560016989707947\n",
            "[VALID] EPOCH 3 - LOSS: 0.20043757557868958, ACCURACY: 0.9134548306465149\n",
            "[TRAIN] EPOCH 4 - LOSS: 0.07034403085708618, ACCURACY: 0.970488429069519\n",
            "[VALID] EPOCH 4 - LOSS: 0.18989364802837372, ACCURACY: 0.9286457896232605\n",
            "Validation loss decreased (0.2004 --> 0.1899). Savine model ...\n",
            "[TRAIN] EPOCH 5 - LOSS: 0.05751924589276314, ACCURACY: 0.9759106040000916\n",
            "[VALID] EPOCH 5 - LOSS: 0.22443245351314545, ACCURACY: 0.9296875\n",
            "[TRAIN] EPOCH 6 - LOSS: 0.04142553359270096, ACCURACY: 0.9829056262969971\n",
            "[VALID] EPOCH 6 - LOSS: 0.23288026452064514, ACCURACY: 0.9332754611968994\n",
            "[TRAIN] EPOCH 7 - LOSS: 0.039142873138189316, ACCURACY: 0.984437108039856\n",
            "[VALID] EPOCH 7 - LOSS: 0.23181161284446716, ACCURACY: 0.9261284470558167\n",
            "Validation loss decreased (0.2329 --> 0.2318). Savine model ...\n",
            "[TRAIN] EPOCH 8 - LOSS: 0.03374481573700905, ACCURACY: 0.9864238500595093\n",
            "[VALID] EPOCH 8 - LOSS: 0.251290500164032, ACCURACY: 0.9282407760620117\n",
            "[TRAIN] EPOCH 9 - LOSS: 0.02599346451461315, ACCURACY: 0.9903973937034607\n",
            "[VALID] EPOCH 9 - LOSS: 0.25554966926574707, ACCURACY: 0.9410879611968994\n",
            "[TRAIN] EPOCH 10 - LOSS: 0.03209127485752106, ACCURACY: 0.9873758554458618\n",
            "[VALID] EPOCH 10 - LOSS: 0.2435346394777298, ACCURACY: 0.9345775246620178\n",
            "Validation loss decreased (0.2555 --> 0.2435). Savine model ...\n",
            "Execution time: 2:06:10.330211\n",
            "Saving Model\n"
          ]
        }
      ],
      "source": [
        "criterion = torch.nn.CrossEntropyLoss()\n",
        "model.to(device)\n",
        "optimizer = torch.optim.Adam(model.parameters(), lr=learningRate)\n",
        "startTime = datetime.now()\n",
        "print(f\"Start Time: {startTime}\")\n",
        "\n",
        "trainLosses, validLosses, trainAccs, validAccs = TrainModel(model, nEpochs, device, criterion, optimizer, trainDataset, validationDataset)\n",
        "print(f\"Execution time: {datetime.now() - startTime}\")\n",
        "\n",
        "print(\"Saving Model\")\n",
        "torch.save(model.state_dict(), saveModelName)"
      ]
    },
    {
      "cell_type": "code",
      "execution_count": null,
      "metadata": {
        "id": "M6SwwEAJhrIy"
      },
      "outputs": [],
      "source": [
        "def PlotGraph(_trainLosses, _trainAccs, _valLosses, _valAccs):\n",
        "    fig, ax1 = plt.subplots()\n",
        "\n",
        "    ax1.plot(_trainAccs, 'b-', label=\"train acc\")\n",
        "    ax1.plot(_valAccs, 'r-', label=\"valid acc\")\n",
        "    ax1.set_xlabel('epoch')\n",
        "    # Make the y-axis label, ticks and tick labels match the line color\n",
        "    ax1.set_ylabel('acc', color='k')\n",
        "    ax1.tick_params('y', colors='k')\n",
        "\n",
        "    ax2 = ax1.twinx()\n",
        "    ax2.plot(_trainLosses, 'g-', label=\"train loss\")\n",
        "    ax2.plot(_valLosses, 'k-', label=\"valid loss\")\n",
        "    ax2.set_ylabel('loss', color='k')\n",
        "    ax2.tick_params('y', colors='k')\n",
        "\n",
        "    plt.legend()\n",
        "\n",
        "    fig.tight_layout()\n",
        "    plt.show()\n",
        "    plt.savefig('./' + 'train-val_loss_acc.png', format='png', dpi=300)"
      ]
    },
    {
      "cell_type": "code",
      "execution_count": null,
      "metadata": {
        "colab": {
          "base_uri": "https://localhost:8080/",
          "height": 315
        },
        "id": "NCmqu9a8hrIy",
        "outputId": "d22bc4c4-6453-46af-9576-55e937ba3643"
      },
      "outputs": [
        {
          "data": {
            "image/png": "[encoded data removed]",
            "text/plain": [
              "<Figure size 432x288 with 2 Axes>"
            ]
          },
          "metadata": {
            "needs_background": "light"
          },
          "output_type": "display_data"
        },
        {
          "data": {
            "text/plain": [
              "<Figure size 432x288 with 0 Axes>"
            ]
          },
          "metadata": {},
          "output_type": "display_data"
        }
      ],
      "source": [
        "PlotGraph(trainLosses, trainAccs, validLosses, validAccs)"
      ]
    },
    {
      "cell_type": "code",
      "execution_count": null,
      "metadata": {
        "colab": {
          "base_uri": "https://localhost:8080/"
        },
        "id": "bAbQ3o4QjCKv",
        "outputId": "91fa3010-61e9-4605-df86-90cae4be71a3"
      },
      "outputs": [
        {
          "data": {
            "text/plain": [
              "<All keys matched successfully>"
            ]
          },
          "execution_count": 48,
          "metadata": {},
          "output_type": "execute_result"
        }
      ],
      "source": [
        "model.load_state_dict(torch.load('/content/'+saveModelName))\n",
        "model.to(device)\n",
        "\n",
        "criterion = torch.nn.CrossEntropyLoss()\n",
        "optimizer = torch.optim.Adam(model.parameters(), lr=learningRate)"
      ]
    },
    {
      "cell_type": "code",
      "execution_count": null,
      "metadata": {
        "id": "1XhvBZ4kSduj"
      },
      "outputs": [],
      "source": [
        "def TestOneEpoch(_model, _testLoader, _criterion):\n",
        "      # keep track of validation loss\n",
        "      testLoss = 0.0\n",
        "      testAccuracy = 0.0\n",
        "\n",
        "      labelList = list()\n",
        "      predList = list()\n",
        "\n",
        "      ##################\n",
        "      # test the model #\n",
        "      ##################\n",
        "      \n",
        "      _model.eval()\n",
        "\n",
        "      for data, target in _testLoader:\n",
        "        # move tensors to PUT if CUDA is avaliable\n",
        "        data, target = data.cuda(), target.cuda()\n",
        "\n",
        "        with torch.no_grad():\n",
        "          # forward pass: compute predicted outputs by passing inputs to the model\n",
        "          output = _model(data)\n",
        "\n",
        "          # calculate the batch loss\n",
        "          loss = _criterion(output, target)\n",
        "\n",
        "          # Calculate Accuracy\n",
        "          accuracy = (output.argmax(dim=1) == target).float().mean()\n",
        "\n",
        "          # update average validation loss and accuracy\n",
        "          testLoss = testLoss + loss\n",
        "          testAccuracy = testAccuracy + accuracy\n",
        "\n",
        "          _, pred = torch.max(output, 1)\n",
        "          labelList.extend(target.tolist())\n",
        "          predList.extend(pred.tolist())\n",
        "\n",
        "\n",
        "          # print(f\"[TEST] LOSS: {testLoss}, ACCURACY: {testAccuracy}\")\n",
        "\n",
        "      return testLoss / len(_testLoader), testAccuracy / len(_testLoader), labelList, predList"
      ]
    },
    {
      "cell_type": "code",
      "execution_count": null,
      "metadata": {
        "id": "MFRvIJcohrIz"
      },
      "outputs": [],
      "source": [
        "def ConfusionMatrix(_nClasses, _labelList, _predList):\n",
        "    cm = confusion_matrix(_labelList, _predList, labels=[i for i in range(_nClasses)])\n",
        "    print(cm)\n",
        "\n",
        "    report = classification_report(_labelList, _predList, labels=[i for i in range(_nClasses)])\n",
        "    print(report)\n"
      ]
    },
    {
      "cell_type": "code",
      "execution_count": null,
      "metadata": {
        "id": "Pw-ost8fhrIz"
      },
      "outputs": [],
      "source": [
        "startTime = datetime.now()\n",
        "print(f\"Start Time: {startTime}\")\n",
        "testLoss, testAccuracy, labelList, predList = TestOneEpoch(model, testDataset, criterion)\n",
        "print(f\"Execution time: {datetime.now() - startTime}\")\n",
        "\n",
        "print(f\"[TEST] LOSS: {testLoss}, ACCURACY: {testAccuracy}\")\n",
        "ConfusionMatrix(_nClasses=2, _labelList=labelList, _predList=predList)"
      ]
    },
    {
      "cell_type": "markdown",
      "metadata": {
        "id": "vvFln6bEt88U"
      },
      "source": [
        "# Get GradCAM"
      ]
    },
    {
      "cell_type": "markdown",
      "metadata": {
        "id": "dgmXIUvWvpr3"
      },
      "source": [
        "## Define Utils"
      ]
    },
    {
      "cell_type": "code",
      "execution_count": null,
      "metadata": {
        "id": "UIbHlr3RuYAF"
      },
      "outputs": [],
      "source": [
        "def ScaleCamImage(_cam, _targetSize=None):\n",
        "    result = list()\n",
        "    for image in _cam:\n",
        "        image = image - np.min(image)\n",
        "        image = image / (1e-7 + np.max(image)) \n",
        "        if _targetSize is not None:\n",
        "            image = cv2.resize(image, _targetSize)\n",
        "        result.append(image)\n",
        "    result = np.float32(result)\n",
        "\n",
        "    return result\n",
        "\n",
        "def Get2dProjection(_activationBatch):\n",
        "    # TBD: use pytorch batch svd implementation\n",
        "    _activationBatch[np.isnan(_activationBatch)] = 0\n",
        "    projections = list()\n",
        "\n",
        "    for activations in _activationBatch:\n",
        "        reshapedActivation = (activations).reshape(activations.shape[0], -1).transpose()\n",
        "\n",
        "        # Centering before the SVD seems to be important here,\n",
        "        # Otherwise the image returned is negative\n",
        "        reshapedActivation = reshapedActivation - reshapedActivation.mean(axis=0)\n",
        "        U, S, VT = np.linalg.svd(reshapedActivation, full_matrices=True)\n",
        "        projection = np.matmul(reshapedActivation, VT[0, :])\n",
        "        projections.append(projection)\n",
        "\n",
        "    return np.float32(projections)\n",
        "\n",
        "\n",
        "class ClassifierOutputTarget:\n",
        "    def __init__(self, _category):\n",
        "        self.m_Category = _category\n",
        "    def __call__(self, _modelOutput):\n",
        "        if len(_modelOutput.shape) == 1:\n",
        "            return _modelOutput[self.m_Category]\n",
        "        return _modelOutput[:, self.m_Category]\n",
        "\n",
        "class ActivationAndGradients:\n",
        "    \"\"\"\n",
        "    Class for extracting activations and\n",
        "    registering gradients from targetted intermediate layers\n",
        "    \n",
        "    \"\"\"\n",
        "\n",
        "    def __init__(self, _model, _targetLayers, _reshapedTransform):\n",
        "        self.m_Model = _model\n",
        "        self.m_Gradients = list()\n",
        "        self.m_Activations = list()\n",
        "        self.m_ReshapedTransform = _reshapedTransform\n",
        "        self.m_Handles = list()\n",
        "\n",
        "        self.m_Handles.append(_targetLayers.register_forward_hook(self.SaveActivation))\n",
        "        self.m_Handles.append(_targetLayers.register_forward_hook(self.SaveGradient))\n",
        "\n",
        "    def SaveActivation(self, _module, _input, _output):\n",
        "        activation = _output\n",
        "\n",
        "        if self.m_ReshapedTransform is not None:\n",
        "            activation = self.m_ReshapedTransform(activation)\n",
        "        self.m_Activations.append(activation.cpu().detach())\n",
        "\n",
        "    def SaveGradient(self, _module, _input, _output):\n",
        "        if not hasattr(_output, \"requires_grad\") or not _output.requires_grad:\n",
        "            # You can only register hooks on tensor requires grad.\n",
        "            return\n",
        "\n",
        "        # Gradients are computed in reverse order\n",
        "        def _StoreGrad(_grad):\n",
        "            if self.m_ReshapedTransform is not None:\n",
        "                _grad = self.m_ReshapedTransform(_grad)\n",
        "            self.m_Gradients = [_grad.cpu().detach()] + self.m_Gradients\n",
        "\n",
        "        _output.register_hook(_StoreGrad)\n",
        "\n",
        "    def __call__(self, _x):\n",
        "        self.m_Gradients = list()\n",
        "        self.m_Activations = list()\n",
        "        return self.m_Model(_x)\n",
        "\n",
        "    def Release(self):\n",
        "        for handle in self.m_Handles:\n",
        "            handle.remove()\n"
      ]
    },
    {
      "cell_type": "markdown",
      "source": [
        "## Define GradCAM"
      ],
      "metadata": {
        "id": "VsMcy8hvyN3x"
      }
    },
    {
      "cell_type": "code",
      "execution_count": null,
      "metadata": {
        "id": "1euPNxz5uL6Y"
      },
      "outputs": [],
      "source": [
        "class BaseCAM:\n",
        "    def __init__(self, _model, _targetLayers, _useCuda=False, _reshapeTransform=None, _computeInputGradient=False, _usesGradients=True):\n",
        "        \"\"\"\n",
        "        # from typing import Callable, List, Tuple #\n",
        "        Args type\n",
        "            _model: torch.nn.Module\n",
        "            _targetLayers: List[torch.nn.Module]\n",
        "            _useCuda: bool\n",
        "            _reshapeTransform: Callable\n",
        "            _computeInputGradient: bool\n",
        "            _usesGradients: bool        \n",
        "        \n",
        "        Return type\n",
        "            : None\n",
        "        \"\"\"\n",
        "\n",
        "        self.m_Model = _model.eval()\n",
        "        self.m_TargetLayers = _targetLayers\n",
        "        self.m_Cuda = _useCuda\n",
        "\n",
        "        if self.m_Cuda:\n",
        "            self.m_Model = _model.cuda()\n",
        "\n",
        "        self.m_ReshapeTransform = _reshapeTransform\n",
        "        self.m_ComputeInputGradient = _computeInputGradient\n",
        "        self.m_UsesGradients = _usesGradients\n",
        "        self.m_ActivationsAndGrads = ActivationAndGradients(self.m_Model, _targetLayers, _reshapeTransform)\n",
        "\n",
        "    ##################################################################\n",
        "    # Get a vector of weights for every channel in the target layer. #\n",
        "    # Methods that return weights channels,                          #\n",
        "    # will typically need to only implement this function.           #\n",
        "    # ################################################################ \n",
        "\n",
        "    def GetCamWeights(self, _inputTensor, _targetLayers, _targets, _activations, _grads):\n",
        "        \"\"\"\n",
        "        Args type\n",
        "            _inputTensor: torch.Tensor\n",
        "            _targetLayers: Listp[torch.nn.Module]\n",
        "            _targets: List[torch.nn.Module]\n",
        "            _activations: torch.Tensor\n",
        "            _grads: torch.Tensor\n",
        "        \n",
        "        Return type\n",
        "            : np.ndarray\n",
        "        \n",
        "        \"\"\"\n",
        "        raise Exception(\"Not Implemented\")\n",
        "\n",
        "    def GetCamImage(self, _inputTensor, _targetLayer, _targets, _activations, _grads, _eigenSmooth=False):\n",
        "        \"\"\"\n",
        "        Args type\n",
        "            _inputTensor: torch.Tensor\n",
        "            _targetLayer: torch.nn.Module\n",
        "            _targets: List[torch.nn.Module]\n",
        "            _activations: torch.Tensor\n",
        "            _grads: torch.Tensor\n",
        "            _eigenSmooth: bool\n",
        "        \n",
        "        Return type\n",
        "            cam: np.ndarray\n",
        "        \n",
        "        \"\"\"\n",
        "\n",
        "        weights = self.GetCamWeights(_inputTensor, _targetLayer, _targets, _activations, _grads)\n",
        "        weightedActivations = weights[:, None, None] * _activations\n",
        "        # weightedActivations = weights[:, :, None, None] * _activations\n",
        "\n",
        "        if _eigenSmooth:\n",
        "            cam = Get2dProjection(weightedActivations)\n",
        "\n",
        "        else:\n",
        "            cam = weightedActivations.sum(axis=1)\n",
        "        return cam\n",
        "\n",
        "    def Forward(self, _inputTensor, _targets, _eigenSmooth=False):\n",
        "        \"\"\"\n",
        "        Args type\n",
        "            _inputTensor: torch.Tensor\n",
        "            _targets: List[torch.nn.Module]\n",
        "            _eigenSmooth: bool\n",
        "\n",
        "        Return type\n",
        "            : np.ndarray\n",
        "\n",
        "        \"\"\"\n",
        "\n",
        "        if self.m_Cuda:\n",
        "            _inputTensor = _inputTensor.cuda()\n",
        "\n",
        "        if self.m_ComputeInputGradient:\n",
        "            _inputTensor = torch.autograd.Variable(_inputTensor, requires_grad=True)\n",
        "\n",
        "        outputs = self.m_ActivationsAndGrads(_inputTensor)\n",
        "        if _targets is None:\n",
        "            targetCategories = np.argmax(outputs.cpu().data.numpy(), axis=-1)\n",
        "            _targets = [ClassifierOutputTarget(category) for category in targetCategories]\n",
        "\n",
        "        if self.m_UsesGradients:\n",
        "            self.m_Model.zero_grad()\n",
        "            loss = sum([target(output) for target, output in zip(_targets, outputs)])\n",
        "            loss.backward(retain_graph=True)\n",
        "\n",
        "        # In most of the saliency attribution papers, the saliency is\n",
        "        # coputed with a single target layer.\n",
        "        # Commonly it is the last convolutional layer.\n",
        "        # Here we support passing a list with multiple target layers.\n",
        "        # It will compute the saliency image for every image,\n",
        "        # and then aggregate them (with a default mean aggregation).\n",
        "        # This gives you more flexibility in case you just want to\n",
        "        # use all conv layers for example, all Batchnorm layers,\n",
        "        # or something else.\n",
        "        camPerLayer = self.ComputeCamPerLayer(_inputTensor, _targets, _eigenSmooth)\n",
        "\n",
        "        return self.AggregateMultiLayers(camPerLayer)\n",
        "\n",
        "    def GetTargetWidthHeight(self, _inputTensor):\n",
        "        \"\"\"\n",
        "        Args type\n",
        "            _inputTensor: torch.Tensor\n",
        "\n",
        "        Return type\n",
        "            width, height: Tuple[int, int]\n",
        "        \n",
        "        \"\"\"\n",
        "        width, height = _inputTensor.size(-1), _inputTensor.size(-2)\n",
        "\n",
        "        return width, height\n",
        "\n",
        "\n",
        "    def ComputeCamPerLayer(self, _inputTensor, _targets, _eigenSmooth):\n",
        "        \"\"\"\n",
        "        Args type\n",
        "            _inputTensor: torch.Tensor\n",
        "            _targets: List[torch.nn.Module]\n",
        "            _eigenSmooth: bool\n",
        "\n",
        "        Return type\n",
        "            camPerTargetLayer: np.ndarray\n",
        "        \n",
        "        \"\"\"\n",
        "\n",
        "        activationsList = [acti.cpu().data.numpy() for acti in self.m_ActivationsAndGrads.m_Activations]\n",
        "        gradsList = [grad.cpu().data.numpy() for grad in self.m_ActivationsAndGrads.m_Gradients]\n",
        "        targetSize = self.GetTargetWidthHeight(_inputTensor)\n",
        "\n",
        "        camPertargetLayer = list()\n",
        "        \n",
        "        # # Loop over the saliency image from every layer\n",
        "        # for i in range(len(self.m_TargetLayers)):\n",
        "        #     targetLayer = self.m_TargetLayers[i]\n",
        "        #     layerActivations = None\n",
        "        #     layerGrads = None\n",
        "\n",
        "        #     if i < len(activationsList):\n",
        "        #         layerActivations = activationsList[i]\n",
        "\n",
        "        #     if i < len(gradsList):\n",
        "        #         layerGrads = gradsList[i]\n",
        "\n",
        "        #     cam = self.GetCamImage(_inputTensor, targetLayer, _targets, layerActivations, layerGrads, _eigenSmooth)\n",
        "        #     cam = np.maximum(cam, 0)\n",
        "        #     scaled = ScaleCamImage(cam, targetSize)\n",
        "        #     camPertargetLayer.append(scaled[:, None, :])\n",
        "\n",
        "        targetLayer = self.m_TargetLayers\n",
        "        layerActivations = None\n",
        "        layerGrads = None\n",
        "\n",
        "        layerActivations = activationsList\n",
        "        layerGrads = gradsList\n",
        "\n",
        "        cam = self.GetCamImage(_inputTensor, targetLayer, _targets, layerActivations, layerGrads, _eigenSmooth)\n",
        "        cam = np.maximum(cam, 0)\n",
        "        scaled = ScaleCamImage(cam, targetSize)\n",
        "        camPertargetLayer.append(scaled[:, None, :])\n",
        "\n",
        "        return camPertargetLayer\n",
        "\n",
        "    def AggregateMultiLayers(self, _camPerTargetLayer):\n",
        "        \"\"\"\n",
        "        Args type\n",
        "            _camPerTargetLayer: np.ndarray\n",
        "\n",
        "        Return type\n",
        "            ScaleCamImage(result): np.ndarray\n",
        "        \n",
        "        \"\"\"\n",
        "\n",
        "        camPerTargetLayer = np.concatenate(_camPerTargetLayer, axis=1)\n",
        "        camPerTargetLayer = np.maximum(camPerTargetLayer, 0)\n",
        "        result = np.mean(camPerTargetLayer, axis=1)\n",
        "\n",
        "        return ScaleCamImage(result)\n",
        "\n",
        "    def __call__(self, _inputTensor, _targets=None, _eigenSmooth=False):\n",
        "        \"\"\"\n",
        "        Args type:\n",
        "            _inputTensor: torch.Tensor\n",
        "            _targets: List[torch.nn.Module]\n",
        "            _eigenSmooth: bool\n",
        "\n",
        "        Return type\n",
        "            self.Forward(_inputTensor, _targets, _eigenSmooth): np.ndarray\n",
        "        \n",
        "        \"\"\"\n",
        "\n",
        "        return self.Forward(_inputTensor, _targets, _eigenSmooth)\n",
        "\n",
        "    def __del__(self):\n",
        "        self.m_ActivationsAndGrads.Release()\n",
        "\n",
        "    def __enter__(self):\n",
        "        return self\n",
        "\n",
        "    def __exit__(self, _excType, _excValue, _excTb):\n",
        "        self.m-ActivationAndGradients.Release()\n",
        "        if isinstance(_excValue, IndexError):\n",
        "            # Handle IndexError here...\n",
        "            print(f\"An exception occurred in CAM with block: {_excType}. Message: {_excValue}\")\n",
        "            return True"
      ]
    },
    {
      "cell_type": "code",
      "execution_count": null,
      "metadata": {
        "id": "5Wt2lOYSvpr4"
      },
      "outputs": [],
      "source": [
        "class GradCAM(BaseCAM):\n",
        "    def __init__(self, _model, _targetLayers, _useCuda=False, _reshapeTransform=None):\n",
        "        super(GradCAM, self).__init__(_model, _targetLayers, _useCuda, _reshapeTransform)\n",
        "\n",
        "    def GetCamWeights(self, _inputTensor, _targetLayer, _targetCategory, _activations, _grads):\n",
        "        return np.mean(_grads, axis=(1, 2))"
      ]
    },
    {
      "cell_type": "markdown",
      "metadata": {
        "id": "SICrVwEevpr5"
      },
      "source": [
        "## Apply a target layer to GradCAM"
      ]
    },
    {
      "cell_type": "code",
      "execution_count": null,
      "metadata": {
        "id": "eEms9hMrvpr4"
      },
      "outputs": [],
      "source": [
        "# create heatmap from mask on image\n",
        "def ShowCamOnImage(_img, _mask):\n",
        "  heatmap = cv2.applyColorMap(np.uint8(255 * _mask), cv2.COLORMAP_JET)\n",
        "  heatmap = np.float32(heatmap) / 255\n",
        "  cam = heatmap + np.float32(_img)\n",
        "  cam = cam / np.max(cam)\n",
        "\n",
        "  return cam"
      ]
    },
    {
      "cell_type": "code",
      "execution_count": null,
      "metadata": {
        "id": "jmRs1lo2wnxt"
      },
      "outputs": [],
      "source": [
        "gc.collect()\n",
        "torch.cuda.empty_cache()"
      ]
    },
    {
      "cell_type": "code",
      "execution_count": null,
      "metadata": {
        "id": "hqAGew4rt8XV",
        "colab": {
          "base_uri": "https://localhost:8080/"
        },
        "outputId": "4e791b98-f43e-418b-bf4e-55ce171f396a"
      },
      "outputs": [
        {
          "output_type": "execute_result",
          "data": {
            "text/plain": [
              "LayerNorm((768,), eps=1e-06, elementwise_affine=True)"
            ]
          },
          "metadata": {},
          "execution_count": 70
        }
      ],
      "source": [
        "targetLayer = model.m_Model.blocks[-1].norm1\n",
        "targetLayer"
      ]
    },
    {
      "cell_type": "code",
      "execution_count": null,
      "metadata": {
        "id": "H7mU_I23vpr5"
      },
      "outputs": [],
      "source": [
        "sampleDataset = next(iter(testDataset))"
      ]
    },
    {
      "cell_type": "code",
      "execution_count": null,
      "metadata": {
        "id": "omgSFbBpu4u9"
      },
      "outputs": [],
      "source": [
        "cam = GradCAM(_model=model, _targetLayers=targetLayer, _useCuda=True)"
      ]
    },
    {
      "cell_type": "code",
      "execution_count": null,
      "metadata": {
        "id": "elepBD1Kux7W",
        "colab": {
          "base_uri": "https://localhost:8080/"
        },
        "outputId": "e9db74e6-9667-4c1b-af44-1898169d9333"
      },
      "outputs": [
        {
          "output_type": "stream",
          "name": "stdout",
          "text": [
            "[[0.02676062 0.2461711  0.01966343 ... 0.13567686 0.04848931 0.00566319]\n",
            " [0.00483842 0.217376   0.00554968 ... 0.07973474 0.3303919  0.00102392]\n",
            " [0.06629287 0.07593254 0.08022992 ... 0.02536067 0.23643814 0.        ]\n",
            " ...\n",
            " [0.04935237 0.1786239  0.05680735 ... 0.01197779 0.2636339  0.        ]\n",
            " [0.04013029 0.21192391 0.0570198  ... 0.03020757 0.21860872 0.        ]\n",
            " [0.         0.45945588 0.01007626 ... 0.10709529 0.3068221  0.        ]]\n",
            "(224, 224)\n"
          ]
        }
      ],
      "source": [
        "grayscaleCam = cam(_inputTensor=sampleDataset[0])\n",
        "grayscaleCam = grayscaleCam[0, :]\n",
        "print(grayscaleCam)\n",
        "print(grayscaleCam.shape)"
      ]
    },
    {
      "cell_type": "code",
      "execution_count": null,
      "metadata": {
        "id": "lyv9oFY2zg6c"
      },
      "outputs": [],
      "source": [
        "testImage = sampleDataset[0][0].numpy()\n",
        "testImage = np.transpose(testImage, (1, 2, 0))"
      ]
    },
    {
      "cell_type": "code",
      "execution_count": null,
      "metadata": {
        "id": "i7p3nM0nuxvs"
      },
      "outputs": [],
      "source": [
        "visualization = ShowCamOnImage(testImage, grayscaleCam)"
      ]
    },
    {
      "cell_type": "code",
      "execution_count": null,
      "metadata": {
        "colab": {
          "base_uri": "https://localhost:8080/",
          "height": 205
        },
        "id": "9SdAS5Tczgo6",
        "outputId": "70e7ada3-453e-44dd-d279-016affd714cd"
      },
      "outputs": [
        {
          "output_type": "stream",
          "name": "stderr",
          "text": [
            "Clipping input data to the valid range for imshow with RGB data ([0..1] for floats or [0..255] for integers).\n",
            "Clipping input data to the valid range for imshow with RGB data ([0..1] for floats or [0..255] for integers).\n"
          ]
        },
        {
          "output_type": "execute_result",
          "data": {
            "text/plain": [
              "<matplotlib.image.AxesImage at 0x7fbbe01ef6d0>"
            ]
          },
          "metadata": {},
          "execution_count": 83
        },
        {
          "output_type": "display_data",
          "data": {
            "image/png": "[encoded data removed]",
            "text/plain": [
              "<Figure size 432x288 with 3 Axes>"
            ]
          },
          "metadata": {
            "needs_background": "light"
          }
        }
      ],
      "source": [
        "fig, axs = plt.subplots(1, 3)\n",
        "axs[0].imshow(testImage)\n",
        "axs[0].axis('off')\n",
        "\n",
        "axs[1].imshow(grayscaleCam)\n",
        "axs[2].imshow(visualization)"
      ]
    }
  ],
  "metadata": {
    "accelerator": "GPU",
    "colab": {
      "collapsed_sections": [],
      "name": "ViTFineTuningAndGradCAM.ipynb",
      "provenance": [],
      "toc_visible": true
    },
    "kernelspec": {
      "display_name": "Python 3",
      "name": "python3"
    },
    "language_info": {
      "name": "python"
    },
    "orig_nbformat": 4
  },
  "nbformat": 4,
  "nbformat_minor": 0
}